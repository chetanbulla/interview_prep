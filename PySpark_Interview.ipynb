{
  "cells": [
    {
      "cell_type": "markdown",
      "source": [
        "# **Python Interview Quesitons**\n"
      ],
      "metadata": {
        "id": "m3oeIyd2lmow"
      }
    },
    {
      "cell_type": "code",
      "source": [
        "#Write a Python code to flatten a nested list.\n",
        "\n",
        "nested_list = [1, 2, [3, 4, [5, 6]], 7, 8, [9, [10]]]\n",
        "\n",
        "flat_list=[]\n",
        "for i in range (0, len(nested_list)):\n",
        "        flat_list.append(nested_list[i])\n",
        "\n",
        "print(flat_list)\n",
        "\n",
        "\n",
        "\n",
        "def flattened_list(x):\n",
        "        out=[]\n",
        "        for i in x:\n",
        "                if isinstance(i,(list, tuple)):\n",
        "                        out.extend(flattened_list(i)) # Corrected function name here\n",
        "                else: # Added else block to append non-list elements\n",
        "                    out.append(i)\n",
        "        return out\n",
        "\n",
        "print(flattened_list(nested_list)) # Print the result of the function call"
      ],
      "metadata": {
        "colab": {
          "base_uri": "https://localhost:8080/"
        },
        "id": "5cxDtjB8OP3s",
        "outputId": "27a536cc-7338-4dac-c938-5a8e64edcdbd"
      },
      "execution_count": null,
      "outputs": [
        {
          "output_type": "stream",
          "name": "stdout",
          "text": [
            "[1, 2, [3, 4, [5, 6]], 7, 8, [9, [10]]]\n",
            "[1, 2, 3, 4, 5, 6, 7, 8, 9, 10]\n"
          ]
        }
      ]
    },
    {
      "cell_type": "code",
      "source": [
        "logs = [\n",
        "(\"u1\", \"/home\"),\n",
        "(\"u2\", \"/about\"),\n",
        "(\"u1\", \"/about\"),\n",
        "(\"u3\", \"/home\"),\n",
        "(\"u2\", \"/home\")]\n",
        "\n",
        "out = {}\n",
        "for _, path in logs:\n",
        "    out[path] = out.get(path, 0) + 1\n",
        "print(out)  # {'/home': 3, '/about': 2}"
      ],
      "metadata": {
        "colab": {
          "base_uri": "https://localhost:8080/"
        },
        "id": "rKVam023QOyH",
        "outputId": "1e416159-45fe-4597-f47e-b57b18a525ff"
      },
      "execution_count": null,
      "outputs": [
        {
          "output_type": "stream",
          "name": "stdout",
          "text": [
            "{'/home': 3, '/about': 2}\n"
          ]
        }
      ]
    },
    {
      "cell_type": "code",
      "source": [],
      "metadata": {
        "id": "jEsrCU0zQO-S"
      },
      "execution_count": null,
      "outputs": []
    },
    {
      "cell_type": "code",
      "source": [
        "#Reverse a string\n",
        "Str='Chetan Bulla'\n",
        "Str1=''\n",
        "for i in Str:\n",
        "  Str1=i+Str1\n",
        "print(Str1)\n"
      ],
      "metadata": {
        "id": "oMVyS1EkSAhq",
        "colab": {
          "base_uri": "https://localhost:8080/"
        },
        "outputId": "c7426f60-ee96-4bbc-c684-1be8d1130dc2"
      },
      "execution_count": null,
      "outputs": [
        {
          "output_type": "stream",
          "name": "stdout",
          "text": [
            "alluB natehC\n"
          ]
        }
      ]
    },
    {
      "cell_type": "code",
      "source": [
        "#Q: write a function that takes a sentence and returns the longest even-length word ub the sentence\n",
        "#If no even length word then return 0\n",
        "def longest_even(text):\n",
        "  longest='0'\n",
        "  for word in text.split():\n",
        "    if len(word)%2==0 and len(longest)<len(word):\n",
        "      longest=word\n",
        "  return longest\n",
        "\n",
        "longest_even('I am Chetan Bulla')\n"
      ],
      "metadata": {
        "colab": {
          "base_uri": "https://localhost:8080/",
          "height": 36
        },
        "id": "47QaizMkmHo4",
        "outputId": "ea931a39-f16a-4e1a-c9b4-ba7ada970aad"
      },
      "execution_count": null,
      "outputs": [
        {
          "output_type": "execute_result",
          "data": {
            "text/plain": [
              "'Chetan'"
            ],
            "application/vnd.google.colaboratory.intrinsic+json": {
              "type": "string"
            }
          },
          "metadata": {},
          "execution_count": 3
        }
      ]
    },
    {
      "cell_type": "code",
      "source": [
        "#common letter in two strings\n",
        "def common_letters():\n",
        "  str1='I am Chetan Bulla'\n",
        "  str2='i am Chetan Kumar'\n",
        "  s1=set(str1)\n",
        "  s2=set(str2)\n",
        "  Lst= s1 & s2\n",
        "  print(Lst)\n",
        "common_letters()"
      ],
      "metadata": {
        "colab": {
          "base_uri": "https://localhost:8080/"
        },
        "id": "NLODRQHzmwTb",
        "outputId": "6a742ebd-589a-410b-d801-9a64c4f44958"
      },
      "execution_count": null,
      "outputs": [
        {
          "output_type": "stream",
          "name": "stdout",
          "text": [
            "{'C', 'h', 'm', ' ', 'a', 'n', 'e', 'u', 't'}\n"
          ]
        }
      ]
    },
    {
      "cell_type": "code",
      "source": [
        "#Write a python to count the frequency of the words in a string\n",
        "\n",
        "str='Chetan Bulla CHetan CHETAN'\n",
        "str2=str.split(' ')\n",
        "d={}\n",
        "for word in str2:\n",
        "  # convert to lowercase for case-insensitive counting\n",
        "  word_lower = word.lower()\n",
        "  if word_lower not in d.keys():\n",
        "    d[word_lower] = 0\n",
        "  d[word_lower] = d[word_lower] + 1\n",
        "print(d)"
      ],
      "metadata": {
        "colab": {
          "base_uri": "https://localhost:8080/"
        },
        "id": "YovDQE6RnlGg",
        "outputId": "3398ef2d-f00d-4c32-a708-83e7090740fd"
      },
      "execution_count": null,
      "outputs": [
        {
          "output_type": "stream",
          "name": "stdout",
          "text": [
            "{'chetan': 3, 'bulla': 1}\n"
          ]
        }
      ]
    },
    {
      "cell_type": "code",
      "source": [
        "#Write a Python program to convert two lists into a dictionary\n",
        "list1=['chetan', 'bulla', 'bagalkot']\n",
        "list2=[1,2,3]\n",
        "d={}\n",
        "d=dict(zip(list2,list1))\n",
        "print(d)\n"
      ],
      "metadata": {
        "colab": {
          "base_uri": "https://localhost:8080/"
        },
        "id": "M9FRaIQ8owWI",
        "outputId": "82baf388-aff4-44c7-e98a-bef392a29b13"
      },
      "execution_count": null,
      "outputs": [
        {
          "output_type": "stream",
          "name": "stdout",
          "text": [
            "{1: 'chetan', 2: 'bulla', 3: 'bagalkot'}\n"
          ]
        }
      ]
    },
    {
      "cell_type": "code",
      "source": [
        "#Find the missing number in the array\n",
        "\n",
        "def get_missing_by_xor(a):\n",
        "    n=a[-1]\n",
        "    xor1=0\n",
        "    xor2=0\n",
        "    for i in range(1,n+1):\n",
        "        xor1=xor1^i\n",
        "    for j in a:\n",
        "        xor2=xor2^j\n",
        "    print(\"XOR\",xor1^xor2)\n",
        "\n",
        "get_missing_by_xor([1,2,4,5,6])\n"
      ],
      "metadata": {
        "colab": {
          "base_uri": "https://localhost:8080/"
        },
        "id": "c1WM5V0ypEUZ",
        "outputId": "555b4126-fbd7-4fb1-dbe6-f0efeea7e07a"
      },
      "execution_count": null,
      "outputs": [
        {
          "output_type": "stream",
          "name": "stdout",
          "text": [
            "XOR 3\n"
          ]
        }
      ]
    },
    {
      "cell_type": "code",
      "source": [
        "#Q: find out pairs with given sum values of an array\n",
        "\n",
        "def sum_array_pair(arr,sum):\n",
        "  arr.sort()\n",
        "  left=0\n",
        "  right=len(arr)-1\n",
        "  while (left<=right):\n",
        "    if (arr[left]+arr[right]>sum):\n",
        "      right=right-1\n",
        "    elif(arr[left]+arr[right]<sum):\n",
        "      left=left+1\n",
        "    elif(arr[left]+arr[right]==sum):\n",
        "      print(arr[left],\"& \", arr[right])\n",
        "      right=right-1\n",
        "      left=left+1\n",
        "\n",
        "Arr=[5,7,4,3,9,8,19,21]\n",
        "Sum=17\n",
        "sum_array_pair(Arr,Sum)"
      ],
      "metadata": {
        "colab": {
          "base_uri": "https://localhost:8080/"
        },
        "id": "koABlrivpQil",
        "outputId": "33fd4866-78c0-4471-de7d-26a7f1058199"
      },
      "execution_count": null,
      "outputs": [
        {
          "output_type": "stream",
          "name": "stdout",
          "text": [
            "8 &  9\n"
          ]
        }
      ]
    },
    {
      "cell_type": "code",
      "source": [
        "#remove duplicate elements in the list\n",
        "my_list = [1, 2, 3, 2, 4, 1, 5, 3]\n",
        "unique_list = list(set(my_list))\n",
        "print(unique_list)\n",
        "\n",
        "my_list2=[]\n",
        "for i in my_list:\n",
        "  if i not in my_list2:\n",
        "    my_list2.append(i)\n",
        "print(my_list2)"
      ],
      "metadata": {
        "colab": {
          "base_uri": "https://localhost:8080/"
        },
        "id": "pyNdBoFir6Ju",
        "outputId": "b74bd443-6522-4c44-821d-e0c55ecbb730"
      },
      "execution_count": null,
      "outputs": [
        {
          "output_type": "stream",
          "name": "stdout",
          "text": [
            "[1, 2, 3, 4, 5]\n",
            "[1, 2, 3, 4, 5]\n"
          ]
        }
      ]
    },
    {
      "cell_type": "code",
      "source": [
        "#. Maximum sum subarray\n",
        "\n",
        "cur_sum=0\n",
        "max_sum=0\n",
        "arr=[2,3,-8,7,-1,2,3]\n",
        "for i in range(0,len(arr)-1):\n",
        "  cur_sum=cur_sum+arr[i]\n",
        "  if (max_sum<cur_sum):\n",
        "    max_sum=cur_sum\n",
        "  if (cur_sum<0):\n",
        "    cur_sum=0\n",
        "print(cur_sum)"
      ],
      "metadata": {
        "colab": {
          "base_uri": "https://localhost:8080/"
        },
        "id": "NFk6ErgM1Uw_",
        "outputId": "2129a107-7fdc-4b70-9c64-61414d774fb0"
      },
      "execution_count": null,
      "outputs": [
        {
          "output_type": "stream",
          "name": "stdout",
          "text": [
            "8\n"
          ]
        }
      ]
    },
    {
      "cell_type": "code",
      "source": [
        "\n",
        "def reverse(str):\n",
        "   return str[::-1]\n",
        "\n",
        "def rev_words(stmt):\n",
        "  n=len(stmt)\n",
        "  rev_all=''\n",
        "  if n==1:\n",
        "    return stmt\n",
        "  str2=stmt.split(' ')\n",
        "  size=len(str2)\n",
        "  for i in range(size):\n",
        "    rev=reverse(str[i])\n",
        "    rev_all=rev_all+rev+' '\n",
        "  print(rev_all)\n",
        "\n",
        "rev_words(' i am chetan bulla')\n",
        "%r"
      ],
      "metadata": {
        "colab": {
          "base_uri": "https://localhost:8080/"
        },
        "id": "qyEH23Fm2INh",
        "outputId": "83e42f93-60f8-41b5-fdeb-3d4a7ce3011a"
      },
      "execution_count": null,
      "outputs": [
        {
          "output_type": "stream",
          "name": "stdout",
          "text": [
            "C h e t a \n"
          ]
        },
        {
          "output_type": "stream",
          "name": "stderr",
          "text": [
            "UsageError: Line magic function `%r` not found.\n"
          ]
        }
      ]
    },
    {
      "cell_type": "code",
      "source": [
        "students = [('David',46),('sam',96),('sagar',90)] #print name of student who got highest marks'\n",
        "\n",
        "marks=0\n",
        "for i,j in students:\n",
        "  if j>marks:\n",
        "    marks=j\n",
        "    name=i\n",
        "print(name)\n"
      ],
      "metadata": {
        "colab": {
          "base_uri": "https://localhost:8080/"
        },
        "id": "tUFpMrvI3Nmh",
        "outputId": "d5e37d20-0b9e-4d1e-b2fb-366637d7bdea"
      },
      "execution_count": null,
      "outputs": [
        {
          "output_type": "stream",
          "name": "stdout",
          "text": [
            "sam\n"
          ]
        }
      ]
    },
    {
      "cell_type": "code",
      "source": [
        "# to find least positive integer missing from the list\n",
        "\n",
        "list_inp=[1,-1,3,7,8,0,2,5,-6]\n",
        "comp_lst=list(range(1, len(list_inp)+1))\n",
        "for i in list_inp:\n",
        "  for j in comp_lst:\n",
        "    if i==j:\n",
        "      comp_lst.remove(i)\n",
        "print(comp_lst[0])\n"
      ],
      "metadata": {
        "colab": {
          "base_uri": "https://localhost:8080/"
        },
        "id": "vUj9ScOZ3jzG",
        "outputId": "4f10b32d-87d4-4baf-b463-e24c9b3e8c36"
      },
      "execution_count": null,
      "outputs": [
        {
          "output_type": "stream",
          "name": "stdout",
          "text": [
            "4\n"
          ]
        }
      ]
    },
    {
      "cell_type": "markdown",
      "metadata": {
        "application/vnd.databricks.v1+cell": {
          "cellMetadata": {},
          "inputWidgets": {},
          "nuid": "7b09f4ad-f23e-493c-afd4-3bafeb7d59d5",
          "showTitle": false,
          "tableResultSettingsMap": {},
          "title": ""
        },
        "id": "D9weNmViR5AF"
      },
      "source": [
        "# **PYSPARK INTERVIEW QUESTIONS**"
      ]
    },
    {
      "cell_type": "code",
      "source": [],
      "metadata": {
        "id": "gzEhnlBHmizN"
      },
      "execution_count": null,
      "outputs": []
    },
    {
      "cell_type": "code",
      "execution_count": null,
      "metadata": {
        "application/vnd.databricks.v1+cell": {
          "cellMetadata": {
            "byteLimit": 2048000,
            "rowLimit": 10000
          },
          "inputWidgets": {},
          "nuid": "d2b523a1-444f-4442-9f20-99c8dc92b146",
          "showTitle": false,
          "tableResultSettingsMap": {},
          "title": ""
        },
        "id": "kjMVkn_FR5AI"
      },
      "outputs": [],
      "source": [
        "from pyspark.sql.functions import *\n",
        "from pyspark.sql.types import *\n",
        "from pyspark.sql import SparkSession\n",
        "from pyspark.sql import Window\n",
        "spark=SparkSession.builder.appName('practice').getOrCreate()"
      ]
    },
    {
      "cell_type": "code",
      "source": [
        "from pyspark.sql import SparkSession, functions as F\n",
        "\n",
        "spark = SparkSession.builder.getOrCreate()\n",
        "\n",
        "data = [\n",
        "    (1, \"Good #morning\"),\n",
        "    (2, \"Market is rocketing. #Invest #StockNews #News\"),\n",
        "    (3, \"ChatGPT got new release #News #Revolution\"),\n",
        "    (1, \"Good #afternoon\"),\n",
        "    (2, \" Market is down. #Invest #StockNews #News\"),\n",
        "]\n",
        "df = spark.createDataFrame(data, [\"user_id\", \"tweet\"])\n",
        "\n",
        "# Extract hashtags per tweet as an array, using only built-in functions\n",
        "df_tags = df.withColumn(\n",
        "    \"tags\",\n",
        "    F.expr(\"\"\"\n",
        "      filter(\n",
        "        transform(split(tweet, '\\\\\\\\s+'), x -> regexp_extract(x, '(#\\\\\\\\w+)', 1)),\n",
        "        t -> t <> ''\n",
        "      )\n",
        "    \"\"\")\n",
        ")\n",
        "\n",
        "# User → list of hashtag arrays (one array per tweet)\n",
        "per_tweet = df_tags.groupBy(\"user_id\").agg(F.collect_list(\"tags\").alias(\"tweets\"))\n",
        "\n",
        "# (optional) User → one flattened list of hashtags (all tweets combined)\n",
        "flat = df_tags.groupBy(\"user_id\").agg(F.flatten(F.collect_list(\"tags\")).alias(\"hashtags\"))\n",
        "\n",
        "per_tweet.orderBy(\"user_id\").show(truncate=False)\n",
        "flat.orderBy(\"user_id\").show(truncate=False)"
      ],
      "metadata": {
        "id": "uaNI6k1bQn5c",
        "outputId": "a9caab77-62a7-411e-fa90-aa547f305fb3",
        "colab": {
          "base_uri": "https://localhost:8080/"
        }
      },
      "execution_count": null,
      "outputs": [
        {
          "output_type": "stream",
          "name": "stdout",
          "text": [
            "+-------+------------------------------------------------------------+\n",
            "|user_id|tweets                                                      |\n",
            "+-------+------------------------------------------------------------+\n",
            "|1      |[[#morning], [#afternoon]]                                  |\n",
            "|2      |[[#Invest, #StockNews, #News], [#Invest, #StockNews, #News]]|\n",
            "|3      |[[#News, #Revolution]]                                      |\n",
            "+-------+------------------------------------------------------------+\n",
            "\n",
            "+-------+--------------------------------------------------------+\n",
            "|user_id|hashtags                                                |\n",
            "+-------+--------------------------------------------------------+\n",
            "|1      |[#morning, #afternoon]                                  |\n",
            "|2      |[#Invest, #StockNews, #News, #Invest, #StockNews, #News]|\n",
            "|3      |[#News, #Revolution]                                    |\n",
            "+-------+--------------------------------------------------------+\n",
            "\n"
          ]
        }
      ]
    },
    {
      "cell_type": "markdown",
      "metadata": {
        "application/vnd.databricks.v1+cell": {
          "cellMetadata": {},
          "inputWidgets": {},
          "nuid": "d13400f3-69d3-4b46-b35d-9d09b23515bc",
          "showTitle": false,
          "tableResultSettingsMap": {},
          "title": ""
        },
        "id": "vcq57lifR5AJ"
      },
      "source": [
        "**Q1 While ingesting customer data from an external source, you notice duplicate entries. How would you remove duplicates and retain only the latest entry based on a timestamp column?**"
      ]
    },
    {
      "cell_type": "code",
      "source": [
        "from pyspark.sql import functions as F\n",
        "from pyspark.sql import Window\n",
        "\n",
        "# Sample data\n",
        "data = [\n",
        "    (101, \"2023-12-01\", 100),\n",
        "    (101, \"2023-12-02\", 150),\n",
        "    (102, \"2023-12-01\", 200),\n",
        "    (102, \"2023-12-02\", 250),\n",
        "]\n",
        "\n",
        "df = spark.createDataFrame(data, [\"product_id\", \"date\", \"sales\"])\n",
        "print('Create')\n",
        "df.show()\n",
        "# 1) Parse date to proper type (good practice for ordering)\n",
        "df = df.withColumn(\"date\",to_date(\"date\"))\n",
        "\n",
        "\n",
        "# 3) Keep the latest record per product_id\n",
        "w = Window.partitionBy(\"product_id\").orderBy(col(\"date\").desc())\n",
        "\n",
        "deduped_latest = (\n",
        "    df\n",
        "    .withColumn(\"rn\", row_number().over(w))\n",
        "    .filter(col(\"rn\") == 1)\n",
        "    .drop(\"rn\")\n",
        ")\n",
        "\n",
        "deduped_latest.show()\n"
      ],
      "metadata": {
        "colab": {
          "base_uri": "https://localhost:8080/"
        },
        "id": "6RcKo-3QdKCq",
        "outputId": "3e26d665-0d00-4cf7-835e-48f660567eea"
      },
      "execution_count": null,
      "outputs": [
        {
          "output_type": "stream",
          "name": "stdout",
          "text": [
            "Create\n",
            "+----------+----------+-----+\n",
            "|product_id|      date|sales|\n",
            "+----------+----------+-----+\n",
            "|       101|2023-12-01|  100|\n",
            "|       101|2023-12-02|  150|\n",
            "|       102|2023-12-01|  200|\n",
            "|       102|2023-12-02|  250|\n",
            "+----------+----------+-----+\n",
            "\n",
            "+----------+----------+-----+\n",
            "|product_id|      date|sales|\n",
            "+----------+----------+-----+\n",
            "|       101|2023-12-02|  150|\n",
            "|       102|2023-12-02|  250|\n",
            "+----------+----------+-----+\n",
            "\n"
          ]
        }
      ]
    },
    {
      "cell_type": "markdown",
      "metadata": {
        "application/vnd.databricks.v1+cell": {
          "cellMetadata": {},
          "inputWidgets": {},
          "nuid": "685bea72-16aa-4089-9a47-26b6bc911cfe",
          "showTitle": false,
          "tableResultSettingsMap": {},
          "title": ""
        },
        "id": "WexqlWN7R5AL"
      },
      "source": [
        "**Solution**"
      ]
    },
    {
      "cell_type": "code",
      "execution_count": null,
      "metadata": {
        "application/vnd.databricks.v1+cell": {
          "cellMetadata": {},
          "inputWidgets": {},
          "nuid": "41066a18-aaeb-4ecc-92a1-15523f596507",
          "showTitle": false,
          "tableResultSettingsMap": {},
          "title": ""
        },
        "id": "kzKP74V2R5AL",
        "colab": {
          "base_uri": "https://localhost:8080/",
          "height": 193
        },
        "outputId": "0b70f384-ebee-40cd-e1da-aeb9e9f29d93"
      },
      "outputs": [
        {
          "output_type": "error",
          "ename": "NameError",
          "evalue": "name 'df' is not defined",
          "traceback": [
            "\u001b[0;31m---------------------------------------------------------------------------\u001b[0m",
            "\u001b[0;31mNameError\u001b[0m                                 Traceback (most recent call last)",
            "\u001b[0;32m/tmp/ipython-input-3490816780.py\u001b[0m in \u001b[0;36m<cell line: 0>\u001b[0;34m()\u001b[0m\n\u001b[1;32m      3\u001b[0m \u001b[0;34m\u001b[0m\u001b[0m\n\u001b[1;32m      4\u001b[0m \u001b[0;31m# Casting date col from string to date format\u001b[0m\u001b[0;34m\u001b[0m\u001b[0;34m\u001b[0m\u001b[0m\n\u001b[0;32m----> 5\u001b[0;31m \u001b[0mdf\u001b[0m \u001b[0;34m=\u001b[0m \u001b[0mdf\u001b[0m\u001b[0;34m.\u001b[0m\u001b[0mwithColumn\u001b[0m\u001b[0;34m(\u001b[0m\u001b[0;34m'dates'\u001b[0m\u001b[0;34m,\u001b[0m\u001b[0mcol\u001b[0m\u001b[0;34m(\u001b[0m\u001b[0;34m'date'\u001b[0m\u001b[0;34m)\u001b[0m\u001b[0;34m.\u001b[0m\u001b[0mcast\u001b[0m\u001b[0;34m(\u001b[0m\u001b[0mDateType\u001b[0m\u001b[0;34m(\u001b[0m\u001b[0;34m)\u001b[0m\u001b[0;34m)\u001b[0m\u001b[0;34m)\u001b[0m\u001b[0;34m\u001b[0m\u001b[0;34m\u001b[0m\u001b[0m\n\u001b[0m\u001b[1;32m      6\u001b[0m \u001b[0mdf\u001b[0m \u001b[0;34m=\u001b[0m \u001b[0mdf\u001b[0m\u001b[0;34m.\u001b[0m\u001b[0morderBy\u001b[0m\u001b[0;34m(\u001b[0m\u001b[0;34m'product_id'\u001b[0m\u001b[0;34m,\u001b[0m \u001b[0;34m'dates'\u001b[0m\u001b[0;34m,\u001b[0m\u001b[0mascending\u001b[0m\u001b[0;34m=\u001b[0m\u001b[0;34m[\u001b[0m\u001b[0;36m0\u001b[0m\u001b[0;34m,\u001b[0m\u001b[0;36m1\u001b[0m\u001b[0;34m]\u001b[0m\u001b[0;34m)\u001b[0m\u001b[0;34m.\u001b[0m\u001b[0mdropDuplicates\u001b[0m\u001b[0;34m(\u001b[0m\u001b[0msubset\u001b[0m\u001b[0;34m=\u001b[0m\u001b[0;34m[\u001b[0m\u001b[0;34m'product_id'\u001b[0m\u001b[0;34m]\u001b[0m\u001b[0;34m)\u001b[0m\u001b[0;34m\u001b[0m\u001b[0;34m\u001b[0m\u001b[0m\n",
            "\u001b[0;31mNameError\u001b[0m: name 'df' is not defined"
          ]
        }
      ],
      "source": [
        "#df=df.dropDuplicates([\"product_id\"])\n",
        "#df.types()\n",
        "\n",
        "# Casting date col from string to date format\n",
        "df = df.withColumn('dates',col('date').cast(DateType()))\n",
        "df = df.orderBy('product_id', 'dates',ascending=[0,1]).dropDuplicates(subset=['product_id'])"
      ]
    },
    {
      "cell_type": "code",
      "metadata": {
        "colab": {
          "base_uri": "https://localhost:8080/"
        },
        "id": "b40448fb",
        "outputId": "39763875-5e74-4e8c-dd18-ba858bf1ad10"
      },
      "source": [
        "# Re-create the DataFrame as it was not available in the previous cell's scope\n",
        "data = [\n",
        "    (101, \"2023-12-01\", 100),\n",
        "    (101, \"2023-12-02\", 150),\n",
        "    (102, \"2023-12-01\", 200),\n",
        "    (102, \"2023-12-02\", 250),\n",
        "]\n",
        "\n",
        "df = spark.createDataFrame(data, [\"product_id\", \"date\", \"sales\"])\n",
        "\n",
        "# Apply the deduplication logic\n",
        "df = df.withColumn('dates',col('date').cast(DateType()))\n",
        "df = df.orderBy('product_id', 'dates',ascending=[0,1]).dropDuplicates(subset=['product_id'])\n",
        "\n",
        "df.show()\n",
        "df.printSchema()"
      ],
      "execution_count": null,
      "outputs": [
        {
          "output_type": "stream",
          "name": "stdout",
          "text": [
            "+----------+----------+-----+----------+\n",
            "|product_id|      date|sales|     dates|\n",
            "+----------+----------+-----+----------+\n",
            "|       101|2023-12-01|  100|2023-12-01|\n",
            "|       102|2023-12-01|  200|2023-12-01|\n",
            "+----------+----------+-----+----------+\n",
            "\n",
            "root\n",
            " |-- product_id: long (nullable = true)\n",
            " |-- date: string (nullable = true)\n",
            " |-- sales: long (nullable = true)\n",
            " |-- dates: date (nullable = true)\n",
            "\n"
          ]
        }
      ]
    },
    {
      "cell_type": "code",
      "execution_count": null,
      "metadata": {
        "application/vnd.databricks.v1+cell": {
          "cellMetadata": {},
          "inputWidgets": {},
          "nuid": "b359a049-a1d5-49af-9af2-ef3c4fa59d4a",
          "showTitle": false,
          "tableResultSettingsMap": {},
          "title": ""
        },
        "colab": {
          "base_uri": "https://localhost:8080/"
        },
        "id": "86XMXk9sR5AL",
        "outputId": "13dc939b-36b7-45ea-d781-02bb6c902bac"
      },
      "outputs": [
        {
          "output_type": "stream",
          "name": "stdout",
          "text": [
            "+----------+----------+-----+----------+\n",
            "|product_id|      date|sales|     dates|\n",
            "+----------+----------+-----+----------+\n",
            "|       101|2023-12-01|  100|2023-12-01|\n",
            "|       102|2023-12-01|  200|2023-12-01|\n",
            "+----------+----------+-----+----------+\n",
            "\n",
            "root\n",
            " |-- product_id: long (nullable = true)\n",
            " |-- date: string (nullable = true)\n",
            " |-- sales: long (nullable = true)\n",
            " |-- dates: date (nullable = true)\n",
            "\n"
          ]
        }
      ],
      "source": [
        "df.show()\n",
        "df.printSchema()"
      ]
    },
    {
      "cell_type": "markdown",
      "metadata": {
        "application/vnd.databricks.v1+cell": {
          "cellMetadata": {},
          "inputWidgets": {},
          "nuid": "32fc5f0e-259b-4cca-98ec-df5b4fca85ff",
          "showTitle": false,
          "tableResultSettingsMap": {},
          "title": ""
        },
        "id": "sLcn3ghDR5AM"
      },
      "source": [
        "**2. While processing data from multiple files with inconsistent schemas, you need to merge them into a single DataFrame. How would you handle this inconsistency in PySpark?**"
      ]
    },
    {
      "cell_type": "markdown",
      "source": [
        "Ans:#if parquet\n",
        "merged_df = (spark.read\n",
        "    .option(\"mergeSchema\", \"true\")          # read-time schema evolution\n",
        "    .parquet(\"s3://bucket/path/dir_or_glob/*\"))\n",
        "id csv  and JSON\n",
        "Use a small helper that:\n",
        "finds the superset of all columns,\n",
        "resolves type conflicts to a common target type,\n",
        "adds missing columns as null,\n",
        "casts everything to the target types,\n",
        "unions by name."
      ],
      "metadata": {
        "id": "7OQ9LiJnT5mv"
      }
    },
    {
      "cell_type": "markdown",
      "metadata": {
        "application/vnd.databricks.v1+cell": {
          "cellMetadata": {},
          "inputWidgets": {},
          "nuid": "71b7112f-ae75-4498-a476-95e447444881",
          "showTitle": false,
          "tableResultSettingsMap": {},
          "title": ""
        },
        "id": "jmrOHMQTR5AM"
      },
      "source": [
        "**Solution**"
      ]
    },
    {
      "cell_type": "markdown",
      "source": [
        "**What are the key differences between spark and Hadoop MapReduce in terms of performance and scalability**"
      ],
      "metadata": {
        "id": "zpT1CZ4cSCy4"
      }
    },
    {
      "cell_type": "markdown",
      "source": [
        "| Aspect                   | Apache Spark                                                                                        | Hadoop MapReduce                                                                      | What it means (perf & scale)                                                                                |\n",
        "| ------------------------ | --------------------------------------------------------------------------------------------------- | ------------------------------------------------------------------------------------- | ----------------------------------------------------------------------------------------------------------- |\n",
        "| **Execution model**      | DAG of many stages with pipelining                                                                  | Rigid 2-phase jobs (map → reduce), each stage a separate job                          | Spark avoids launching a new job for each step; fewer barriers → lower latency.                             |\n",
        "| **Data reuse / caching** | In-memory caching (`cache()/persist()`), spill to disk if needed                                    | Writes to disk between every map/reduce stage                                         | Spark crushes iterative workloads (ML, graph, interactive SQL). MapReduce pays full disk I/O each step.     |\n",
        "| **Shuffle & I/O**        | Tungsten/Project Tungsten, whole-stage codegen, optimized shuffle; can keep narrow deps in memory   | Heavy HDFS reads/writes between phases                                                | Spark reduces serialization & disk overhead → big speedups on complex pipelines.                            |\n",
        "| **Latency profile**      | Seconds to sub-second for cached/short jobs; good for interactive SQL & micro-batches               | Minutes+ granularity; optimized for long batch ETL                                    | Spark supports interactive analytics; MapReduce is batch-only.                                              |\n",
        "| **Streaming**            | Structured Streaming (micro-batch/continuous) with exactly-once sinks                               | No native low-latency streaming (uses other ecosystem tools)                          | Spark handles both batch + streaming in one engine.                                                         |\n",
        "| **SQL/ML/Graph**         | First-class: Spark SQL, DataFrames, MLlib, Graph APIs                                               | Not native; relies on external projects (Hive/Pig/Mahout)                             | Less impedance mismatch in Spark → fewer jobs, less I/O.                                                    |\n",
        "| **Fault tolerance**      | RDD/DataFrame lineage recomputation; checkpointing                                                  | HDFS replication + re-run failed tasks per stage                                      | Both are fault-tolerant; Spark recomputes lost partitions, MapReduce rewrites to disk more often.           |\n",
        "| **Scalability ceiling**  | Scales to thousands of nodes; driver & shuffle can bottleneck if jobs have huge task counts or skew | Also scales to thousands; simpler per-stage state, but more jobs for multi-step flows | Both scale horizontally; Spark needs tuning for skew, memory, and shuffle; MapReduce is simpler but slower. |\n",
        "| **Resource efficiency**  | CPU-bound when cached; memory-heavy; dynamic allocation; runs on YARN/K8s/Standalone                | I/O-bound; lower memory needs; runs on YARN                                           | Spark uses more RAM but turns it into speed; MapReduce suits constrained clusters.                          |\n",
        "| **Small files problem**  | Mitigations via input coalescing, but driver scheduling can suffer                                  | Also suffers; InputFormat splitting helps                                             | Both dislike millions of tiny files; compaction helps either way.                                           |\n"
      ],
      "metadata": {
        "id": "oiDRN4viSUSH"
      }
    },
    {
      "cell_type": "markdown",
      "metadata": {
        "application/vnd.databricks.v1+cell": {
          "cellMetadata": {},
          "inputWidgets": {},
          "nuid": "8a9c9d12-8fd3-4b0d-a22e-65d495e289f9",
          "showTitle": false,
          "tableResultSettingsMap": {},
          "title": ""
        },
        "id": "_9y2PhRNR5AN"
      },
      "source": [
        "**4. You are working with a real-time data pipeline, and you notice missing values in your streaming data Column - Category. How would you handle null or missing values in such a scenario?**\n",
        "\n",
        "**df_stream = spark.readStream.schema(\"id INT, value STRING\").csv(\"path/to/stream\")**\n",
        "\n",
        "Ans:\n",
        "df=df.fillna({'category':'NA'})"
      ]
    },
    {
      "cell_type": "markdown",
      "metadata": {
        "application/vnd.databricks.v1+cell": {
          "cellMetadata": {},
          "inputWidgets": {},
          "nuid": "36649713-d578-40d3-813a-fdb671484f97",
          "showTitle": false,
          "tableResultSettingsMap": {},
          "title": ""
        },
        "id": "n_E_XA1NR5AN"
      },
      "source": [
        "**5. You need to calculate the total number of actions performed by users in a system. How would you calculate the top 5 most active users based on this information?**"
      ]
    },
    {
      "cell_type": "code",
      "execution_count": null,
      "metadata": {
        "application/vnd.databricks.v1+cell": {
          "cellMetadata": {
            "byteLimit": 2048000,
            "rowLimit": 10000
          },
          "inputWidgets": {},
          "nuid": "357c3dad-c40d-475d-93a4-be8eea59515e",
          "showTitle": false,
          "tableResultSettingsMap": {},
          "title": ""
        },
        "colab": {
          "base_uri": "https://localhost:8080/"
        },
        "id": "aKT7hZIOR5AN",
        "outputId": "40ae1e8b-a701-4b78-d692-ac2e2d93a2bc"
      },
      "outputs": [
        {
          "output_type": "stream",
          "name": "stdout",
          "text": [
            "+-------+-------+\n",
            "|user_id|actions|\n",
            "+-------+-------+\n",
            "|  user1|      5|\n",
            "|  user2|      8|\n",
            "|  user3|      2|\n",
            "|  user4|     10|\n",
            "|  user2|      3|\n",
            "+-------+-------+\n",
            "\n",
            "+-------+------------+\n",
            "|user_id|sum(actions)|\n",
            "+-------+------------+\n",
            "|  user1|           5|\n",
            "|  user2|          11|\n",
            "|  user3|           2|\n",
            "|  user4|          10|\n",
            "+-------+------------+\n",
            "\n"
          ]
        }
      ],
      "source": [
        "data = [(\"user1\", 5), (\"user2\", 8), (\"user3\", 2), (\"user4\", 10), (\"user2\", 3)]\n",
        "columns = [\"user_id\", \"actions\"]\n",
        "\n",
        "df = spark.createDataFrame(data, columns)\n",
        "df.show()\n",
        "\n",
        "df= df.groupBy('user_id').sum('actions').show()"
      ]
    },
    {
      "cell_type": "code",
      "execution_count": null,
      "metadata": {
        "application/vnd.databricks.v1+cell": {
          "cellMetadata": {},
          "inputWidgets": {},
          "nuid": "fe943241-a1d1-4490-b25a-64fc63491d7b",
          "showTitle": false,
          "tableResultSettingsMap": {},
          "title": ""
        },
        "id": "AJ_ePvuqR5AO",
        "colab": {
          "base_uri": "https://localhost:8080/"
        },
        "outputId": "5d3cbd85-f2bc-434e-f188-01dee77c0030"
      },
      "outputs": [
        {
          "output_type": "stream",
          "name": "stdout",
          "text": [
            "+-------+-------+\n",
            "|user_id|actions|\n",
            "+-------+-------+\n",
            "|  user1|      5|\n",
            "|  user2|      8|\n",
            "|  user3|      2|\n",
            "|  user4|     10|\n",
            "|  user2|      3|\n",
            "+-------+-------+\n",
            "\n",
            "+-------+------------+\n",
            "|user_id|sum(actions)|\n",
            "+-------+------------+\n",
            "|  user2|          11|\n",
            "|  user4|          10|\n",
            "|  user1|           5|\n",
            "|  user3|           2|\n",
            "+-------+------------+\n",
            "\n"
          ]
        }
      ],
      "source": [
        "#solution\n",
        "data = [(\"user1\", 5), (\"user2\", 8), (\"user3\", 2), (\"user4\", 10), (\"user2\", 3)]\n",
        "columns = [\"user_id\", \"actions\"]\n",
        "\n",
        "df = spark.createDataFrame(data, columns)\n",
        "df.show()\n",
        "df.groupBy('user_id').sum('actions').orderBy('sum(actions)',ascending=False).show()"
      ]
    },
    {
      "cell_type": "markdown",
      "metadata": {
        "application/vnd.databricks.v1+cell": {
          "cellMetadata": {},
          "inputWidgets": {},
          "nuid": "66886b92-3d5d-4226-978d-78bdcc52fc1d",
          "showTitle": false,
          "tableResultSettingsMap": {},
          "title": ""
        },
        "id": "RT35VAWYR5AO"
      },
      "source": [
        "**6. While processing sales transaction data, you need to identify the most recent transaction for each customer. How would you approach this task?**"
      ]
    },
    {
      "cell_type": "code",
      "execution_count": null,
      "metadata": {
        "application/vnd.databricks.v1+cell": {
          "cellMetadata": {
            "byteLimit": 2048000,
            "rowLimit": 10000
          },
          "inputWidgets": {},
          "nuid": "de687585-5de0-459a-907d-d2008276d643",
          "showTitle": false,
          "tableResultSettingsMap": {},
          "title": ""
        },
        "colab": {
          "base_uri": "https://localhost:8080/"
        },
        "id": "fzqM7kulR5AO",
        "outputId": "f4f5eb8b-bd6f-4145-f93c-32b3e01cf925"
      },
      "outputs": [
        {
          "output_type": "stream",
          "name": "stdout",
          "text": [
            "+-----------+----------------+-----+\n",
            "|customer_id|transaction_date|sales|\n",
            "+-----------+----------------+-----+\n",
            "|      cust1|      2023-12-01|  100|\n",
            "|      cust2|      2023-12-02|  150|\n",
            "|      cust1|      2023-12-03|  200|\n",
            "|      cust2|      2023-12-04|  250|\n",
            "+-----------+----------------+-----+\n",
            "\n",
            "+-----------+----------------+-----+\n",
            "|customer_id|transaction_date|sales|\n",
            "+-----------+----------------+-----+\n",
            "|      cust1|      2023-12-03|  200|\n",
            "|      cust2|      2023-12-04|  250|\n",
            "+-----------+----------------+-----+\n",
            "\n"
          ]
        }
      ],
      "source": [
        "data = [(\"cust1\", \"2023-12-01\", 100), (\"cust2\", \"2023-12-02\", 150),\n",
        "        (\"cust1\", \"2023-12-03\", 200), (\"cust2\", \"2023-12-04\", 250)]\n",
        "columns = [\"customer_id\", \"transaction_date\", \"sales\"]\n",
        "df = spark.createDataFrame(data, columns)\n",
        "df.show()\n",
        "\n",
        "df=df.withColumn('transaction_date',to_date(col('transaction_date')))\n",
        "window= Window.partitionBy('customer_id').orderBy(col('transaction_date').desc())\n",
        "df=df.withColumn(\"rn\", row_number().over(window)).filter(col('rn')==1).drop('rn').show()"
      ]
    },
    {
      "cell_type": "code",
      "source": [
        "#solution\n",
        "window=Window.partitionBy('customer_id').orderBy(col('transaction_date').desc())\n",
        "df=df.withColumn('rn',row_number().over(window)).filter(col('rn')==1).drop('rn')\n",
        "df.show()"
      ],
      "metadata": {
        "id": "kj4uHiPweZJl"
      },
      "execution_count": null,
      "outputs": []
    },
    {
      "cell_type": "markdown",
      "metadata": {
        "application/vnd.databricks.v1+cell": {
          "cellMetadata": {},
          "inputWidgets": {},
          "nuid": "f96aab33-5aa3-4b7e-ad4d-f89c89bc734e",
          "showTitle": false,
          "tableResultSettingsMap": {},
          "title": ""
        },
        "id": "43ypfHsuR5AO"
      },
      "source": [
        "**7. You need to identify customers who haven’t made any purchases in the last 30 days. How would you filter such customers?**"
      ]
    },
    {
      "cell_type": "code",
      "execution_count": null,
      "metadata": {
        "application/vnd.databricks.v1+cell": {
          "cellMetadata": {
            "byteLimit": 2048000,
            "rowLimit": 10000
          },
          "inputWidgets": {},
          "nuid": "412dbceb-9797-4957-b808-c1fd9ef91d44",
          "showTitle": false,
          "tableResultSettingsMap": {},
          "title": ""
        },
        "colab": {
          "base_uri": "https://localhost:8080/"
        },
        "id": "w5FqaYevR5AP",
        "outputId": "0464bbe2-82a1-4434-9601-305da18f1c2e"
      },
      "outputs": [
        {
          "output_type": "stream",
          "name": "stdout",
          "text": [
            "+-----------+------------------+\n",
            "|customer_id|last_purchase_date|\n",
            "+-----------+------------------+\n",
            "|      cust1|        2025-12-01|\n",
            "|      cust2|        2024-11-20|\n",
            "|      cust3|        2024-11-25|\n",
            "+-----------+------------------+\n",
            "\n",
            "+-----------+------------------+\n",
            "|customer_id|last_purchase_date|\n",
            "+-----------+------------------+\n",
            "|      cust1|        2025-12-01|\n",
            "|      cust2|        2024-11-20|\n",
            "|      cust3|        2024-11-25|\n",
            "+-----------+------------------+\n",
            "\n",
            "+-----------+------------------+\n",
            "|customer_id|last_purchase_date|\n",
            "+-----------+------------------+\n",
            "|      cust2|        2024-11-20|\n",
            "|      cust3|        2024-11-25|\n",
            "+-----------+------------------+\n",
            "\n"
          ]
        }
      ],
      "source": [
        "data = [(\"cust1\", \"2025-12-01\"), (\"cust2\", \"2024-11-20\"), (\"cust3\", \"2024-11-25\")]\n",
        "columns = [\"customer_id\", \"last_purchase_date\"]\n",
        "\n",
        "df = spark.createDataFrame(data, columns)\n",
        "\n",
        "df.show()\n",
        "\n",
        "df=df.withColumn('last_purchase_date',to_date(col('last_purchase_date')))\n",
        "df.show()\n",
        "df=df.withColumn('current_date', current_date())\n",
        "df=df.select('customer_id','last_purchase_date').filter(datediff(col('current_date'),col('last_purchase_date'))>30)\n",
        "df.show()"
      ]
    },
    {
      "cell_type": "code",
      "execution_count": null,
      "metadata": {
        "application/vnd.databricks.v1+cell": {
          "cellMetadata": {},
          "inputWidgets": {},
          "nuid": "8edc9f01-8c86-4c5c-a5d7-f29d866900aa",
          "showTitle": false,
          "tableResultSettingsMap": {},
          "title": ""
        },
        "id": "5ei9tMtiR5AP"
      },
      "outputs": [],
      "source": [
        "#solution\n",
        "from pyspark.sql.functions import current_date\n",
        "df=df.withColumn('last_purchase_date',to_date(col('last_purchase_date')))\n",
        "df=df.filter(datediff(current_date(),col('last_purchase_date'))>30)\n",
        "df.show()"
      ]
    },
    {
      "cell_type": "markdown",
      "metadata": {
        "application/vnd.databricks.v1+cell": {
          "cellMetadata": {
            "byteLimit": 2048000,
            "rowLimit": 10000
          },
          "inputWidgets": {},
          "nuid": "3d0c56c6-a481-4524-9810-271f44c6ffb3",
          "showTitle": false,
          "tableResultSettingsMap": {},
          "title": ""
        },
        "id": "yk5tGJg9R5AP"
      },
      "source": [
        "**8. While analyzing customer reviews, you need to identify the most frequently used words in the feedback. How would you implement this?**"
      ]
    },
    {
      "cell_type": "code",
      "execution_count": null,
      "metadata": {
        "application/vnd.databricks.v1+cell": {
          "cellMetadata": {
            "byteLimit": 2048000,
            "rowLimit": 10000
          },
          "inputWidgets": {},
          "nuid": "c6ad1bf1-6476-44f1-bcfd-1c690ff245fd",
          "showTitle": false,
          "tableResultSettingsMap": {},
          "title": ""
        },
        "colab": {
          "base_uri": "https://localhost:8080/"
        },
        "id": "RSujf9nLR5AP",
        "outputId": "acb6732d-ac57-4fab-b8e9-2dfa25f3c9b8"
      },
      "outputs": [
        {
          "output_type": "stream",
          "name": "stdout",
          "text": [
            "+-----------+--------------------+\n",
            "|customer_id|            feedback|\n",
            "+-----------+--------------------+\n",
            "|  customer1|The product is great|\n",
            "|  customer2|Great product, fa...|\n",
            "|  customer3|Not bad, could be...|\n",
            "+-----------+--------------------+\n",
            "\n",
            "+--------+-----+\n",
            "|feedback|count|\n",
            "+--------+-----+\n",
            "|   great|    2|\n",
            "|      is|    1|\n",
            "|     the|    1|\n",
            "| product|    1|\n",
            "|   could|    1|\n",
            "|     not|    1|\n",
            "|      be|    1|\n",
            "|    fast|    1|\n",
            "|delivery|    1|\n",
            "|    bad,|    1|\n",
            "|  better|    1|\n",
            "|product,|    1|\n",
            "+--------+-----+\n",
            "\n"
          ]
        }
      ],
      "source": [
        "data = [(\"customer1\", \"The product is great\"), (\"customer2\", \"Great product, fast delivery\"), (\"customer3\", \"Not bad, could be better\")]\n",
        "columns = [\"customer_id\", \"feedback\"]\n",
        "df = spark.createDataFrame(data, columns)\n",
        "df.show()\n",
        "df=df.withColumn('feedback',lower(col('feedback'  )))\n",
        "df=df.withColumn('feedback',explode(split(col('feedback'),' ')))\n",
        "df=df.groupBy('feedback').count().orderBy('count', ascending=False)\n",
        "df.show()"
      ]
    },
    {
      "cell_type": "code",
      "execution_count": null,
      "metadata": {
        "application/vnd.databricks.v1+cell": {
          "cellMetadata": {},
          "inputWidgets": {},
          "nuid": "53e56c14-7e35-4c58-a64f-7334e8388da1",
          "showTitle": false,
          "tableResultSettingsMap": {},
          "title": ""
        },
        "id": "VMTwkU-wR5AQ"
      },
      "outputs": [],
      "source": [
        "data = [(\"customer1\", \"The product is great\"), (\"customer2\", \"Great product, fast delivery\"), (\"customer3\", \"Not bad, could be better\")]\n",
        "columns = [\"customer_id\", \"feedback\"]\n",
        "df = spark.createDataFrame(data, columns)\n",
        "df.show()\n",
        "df=df.withColumn('feedback',lower(col('feedback')))\n",
        "#df=df.withColumn('feedback', explode(split(col('feedback'),' '))).show()\n",
        "df=df.withColumn('feedback',explode(split(col('feedback'),' '))).groupBy('feedback').count().orderBy('count',ascending=False)\n",
        "df.show()\n"
      ]
    },
    {
      "cell_type": "markdown",
      "metadata": {
        "application/vnd.databricks.v1+cell": {
          "cellMetadata": {},
          "inputWidgets": {},
          "nuid": "2e362d56-5a61-42ed-b9de-ad6353e1d9a2",
          "showTitle": false,
          "tableResultSettingsMap": {},
          "title": ""
        },
        "id": "voQQ_jv_R5AQ"
      },
      "source": [
        "**9. You need to calculate the cumulative sum of sales over time for each product. How would you approach this?**"
      ]
    },
    {
      "cell_type": "code",
      "execution_count": null,
      "metadata": {
        "application/vnd.databricks.v1+cell": {
          "cellMetadata": {
            "byteLimit": 2048000,
            "rowLimit": 10000
          },
          "inputWidgets": {},
          "nuid": "935a51d6-04f4-4a95-9a78-c824c5513acd",
          "showTitle": false,
          "tableResultSettingsMap": {},
          "title": ""
        },
        "colab": {
          "base_uri": "https://localhost:8080/"
        },
        "id": "WuglJfMNR5AQ",
        "outputId": "46ea37f5-3f1d-40da-fb65-6824f1fc03a7"
      },
      "outputs": [
        {
          "output_type": "stream",
          "name": "stdout",
          "text": [
            "+----------+----------+-----+\n",
            "|product_id|      date|sales|\n",
            "+----------+----------+-----+\n",
            "|  product1|2023-12-01|  100|\n",
            "|  product2|2023-12-02|  200|\n",
            "|  product1|2023-12-03|  150|\n",
            "|  product2|2023-12-04|  250|\n",
            "+----------+----------+-----+\n",
            "\n",
            "+----------+----------+-----+-------+\n",
            "|product_id|      date|sales|cum_sum|\n",
            "+----------+----------+-----+-------+\n",
            "|  product1|2023-12-01|  100|    100|\n",
            "|  product1|2023-12-03|  150|    250|\n",
            "|  product2|2023-12-02|  200|    200|\n",
            "|  product2|2023-12-04|  250|    450|\n",
            "+----------+----------+-----+-------+\n",
            "\n"
          ]
        }
      ],
      "source": [
        "from pyspark.sql import Window\n",
        "data = [(\"product1\", \"2023-12-01\", 100), (\"product2\", \"2023-12-02\", 200),\n",
        "        (\"product1\", \"2023-12-03\", 150), (\"product2\", \"2023-12-04\", 250)]\n",
        "columns = [\"product_id\", \"date\", \"sales\"]\n",
        "df = spark.createDataFrame(data, columns)\n",
        "df.show()\n",
        "\n",
        "#solutionw\n",
        "window=Window.partitionBy('product_id').orderBy('date')\n",
        "df=df.withColumn('cum_sum',sum(col('sales')).over(window))\n",
        "df.show()"
      ]
    },
    {
      "cell_type": "code",
      "execution_count": null,
      "metadata": {
        "application/vnd.databricks.v1+cell": {
          "cellMetadata": {},
          "inputWidgets": {},
          "nuid": "a093880a-0034-4f15-b5ec-330a707e931b",
          "showTitle": false,
          "tableResultSettingsMap": {},
          "title": ""
        },
        "id": "S_aE02VAR5AQ",
        "colab": {
          "base_uri": "https://localhost:8080/"
        },
        "outputId": "a968c2d9-cbd4-4a5f-a1f8-e9e7de0cdb42"
      },
      "outputs": [
        {
          "output_type": "stream",
          "name": "stdout",
          "text": [
            "+----------+----------+-----+-------+\n",
            "|product_id|      date|sales|cum_sum|\n",
            "+----------+----------+-----+-------+\n",
            "|  product1|2023-12-01|  100|    100|\n",
            "|  product1|2023-12-03|  150|    250|\n",
            "|  product2|2023-12-02|  200|    200|\n",
            "|  product2|2023-12-04|  250|    450|\n",
            "+----------+----------+-----+-------+\n",
            "\n",
            "+----------+----------+-------+\n",
            "|product_id|      date|cum_sum|\n",
            "+----------+----------+-------+\n",
            "|  product1|2023-12-01|    100|\n",
            "|  product1|2023-12-03|    250|\n",
            "|  product2|2023-12-02|    200|\n",
            "|  product2|2023-12-04|    450|\n",
            "+----------+----------+-------+\n",
            "\n"
          ]
        }
      ],
      "source": [
        "df.show()\n",
        "spark.sql('select * from df').show()"
      ]
    },
    {
      "cell_type": "markdown",
      "metadata": {
        "application/vnd.databricks.v1+cell": {
          "cellMetadata": {},
          "inputWidgets": {},
          "nuid": "0cea5ed3-0158-4244-b0b6-112adc9ac72a",
          "showTitle": false,
          "tableResultSettingsMap": {},
          "title": ""
        },
        "id": "sJ0hvEFmR5AR"
      },
      "source": [
        "**10. While preparing a data pipeline, you notice some duplicate rows in a dataset. How would you remove the duplicates without affecting the original order?**"
      ]
    },
    {
      "cell_type": "code",
      "execution_count": null,
      "metadata": {
        "application/vnd.databricks.v1+cell": {
          "cellMetadata": {
            "byteLimit": 2048000,
            "rowLimit": 10000
          },
          "inputWidgets": {},
          "nuid": "0a31c276-2e9d-4ea2-8cc0-94946d7a581a",
          "showTitle": false,
          "tableResultSettingsMap": {},
          "title": ""
        },
        "id": "ilCZrGigR5AR"
      },
      "outputs": [],
      "source": [
        "data = [(\"John\", 25), (\"Jane\", 30), (\"John\", 25), (\"Alice\", 22)]\n",
        "columns = [\"name\", \"age\"]\n",
        "df = spark.createDataFrame(data, columns)\n",
        "df.show()\n",
        "\n",
        "df=df.dropDuplicates()\n",
        "df.show()"
      ]
    },
    {
      "cell_type": "code",
      "execution_count": null,
      "metadata": {
        "application/vnd.databricks.v1+cell": {
          "cellMetadata": {},
          "inputWidgets": {},
          "nuid": "90ada39e-6a44-47df-817b-0c6f3431e57f",
          "showTitle": false,
          "tableResultSettingsMap": {},
          "title": ""
        },
        "id": "Q9xaWRMtR5AR"
      },
      "outputs": [],
      "source": []
    },
    {
      "cell_type": "markdown",
      "metadata": {
        "application/vnd.databricks.v1+cell": {
          "cellMetadata": {},
          "inputWidgets": {},
          "nuid": "dea052e0-34e1-469c-98ff-c98d49862c15",
          "showTitle": false,
          "tableResultSettingsMap": {},
          "title": ""
        },
        "id": "hVILekiNR5AR"
      },
      "source": [
        "**11. You are working with user activity data and need to calculate the average session duration per user. How would you implement this?**"
      ]
    },
    {
      "cell_type": "code",
      "execution_count": null,
      "metadata": {
        "application/vnd.databricks.v1+cell": {
          "cellMetadata": {
            "byteLimit": 2048000,
            "rowLimit": 10000
          },
          "inputWidgets": {},
          "nuid": "d52e5118-b9a9-418c-9d44-3bae3a170c84",
          "showTitle": false,
          "tableResultSettingsMap": {},
          "title": ""
        },
        "id": "CLoHOX23R5AR"
      },
      "outputs": [],
      "source": [
        "data = [(\"user1\", \"2023-12-01\", 50), (\"user1\", \"2023-12-02\", 60),\n",
        "        (\"user2\", \"2023-12-01\", 45), (\"user2\", \"2023-12-03\", 75)]\n",
        "columns = [\"user_id\", \"session_date\", \"duration\"]\n",
        "df = spark.createDataFrame(data, columns)\n",
        "\n",
        "df.show()\n",
        "df= df.groupBy(\"user_id\").agg(avg(\"duration\").alias(\"avg_session_duration\"))\n",
        "df.show()\n",
        "#window=Window.partitionBy('user_id')\n",
        "#df=df.withColumn('RK', avg(col('duration').over(window))).show()\n"
      ]
    },
    {
      "cell_type": "code",
      "execution_count": null,
      "metadata": {
        "application/vnd.databricks.v1+cell": {
          "cellMetadata": {},
          "inputWidgets": {},
          "nuid": "bd8dee7e-9bab-4472-86c5-0473e15a5edc",
          "showTitle": false,
          "tableResultSettingsMap": {},
          "title": ""
        },
        "id": "n9OjgvvQR5AS"
      },
      "outputs": [],
      "source": []
    },
    {
      "cell_type": "markdown",
      "metadata": {
        "application/vnd.databricks.v1+cell": {
          "cellMetadata": {},
          "inputWidgets": {},
          "nuid": "74fe6db5-82ac-431b-b94a-47a9ed3adcfa",
          "showTitle": false,
          "tableResultSettingsMap": {},
          "title": ""
        },
        "id": "SAoK_V6dR5AS"
      },
      "source": [
        "**12. While analyzing sales data, you need to find the product with the highest sales for each month. How would you accomplish this?**"
      ]
    },
    {
      "cell_type": "code",
      "execution_count": null,
      "metadata": {
        "application/vnd.databricks.v1+cell": {
          "cellMetadata": {
            "byteLimit": 2048000,
            "rowLimit": 10000
          },
          "inputWidgets": {},
          "nuid": "d2f9f751-f571-4e6c-a20e-b5e6637553c5",
          "showTitle": false,
          "tableResultSettingsMap": {},
          "title": ""
        },
        "colab": {
          "base_uri": "https://localhost:8080/"
        },
        "id": "2coH5-bxR5AS",
        "outputId": "5bbaad46-a9a7-443a-dc16-eee1998a7ddc"
      },
      "outputs": [
        {
          "output_type": "stream",
          "name": "stdout",
          "text": [
            "+----------+----------+-----+\n",
            "|product_id|      date|sales|\n",
            "+----------+----------+-----+\n",
            "|  product1|2023-12-01|  100|\n",
            "|  product2|2023-12-01|  150|\n",
            "|  product1|2023-12-02|  200|\n",
            "|  product2|2023-12-02|  250|\n",
            "+----------+----------+-----+\n",
            "\n",
            "+----------+----------+-----+\n",
            "|product_id|      date|sales|\n",
            "+----------+----------+-----+\n",
            "|  product2|2023-12-01|  150|\n",
            "|  product2|2023-12-02|  250|\n",
            "+----------+----------+-----+\n",
            "\n"
          ]
        }
      ],
      "source": [
        "data = [(\"product1\", \"2023-12-01\", 100), (\"product2\", \"2023-12-01\", 150),\n",
        "        (\"product1\", \"2023-12-02\", 200), (\"product2\", \"2023-12-02\", 250)]\n",
        "columns = [\"product_id\", \"date\", \"sales\"]\n",
        "df = spark.createDataFrame(data, columns)\n",
        "df.show()\n",
        "\n",
        "df=df.withColumn('date', to_date(col('date')))\n",
        "window=Window.partitionBy('date').orderBy(col('sales').desc())\n",
        "df=df.withColumn('rn',row_number().over(window)).filter(col('rn')==1).drop('rn')\n",
        "df.show()"
      ]
    },
    {
      "cell_type": "code",
      "execution_count": null,
      "metadata": {
        "application/vnd.databricks.v1+cell": {
          "cellMetadata": {},
          "inputWidgets": {},
          "nuid": "e632929b-c9a2-43a2-b31c-0451f493008f",
          "showTitle": false,
          "tableResultSettingsMap": {},
          "title": ""
        },
        "id": "H1lwYhQNR5AS"
      },
      "outputs": [],
      "source": []
    },
    {
      "cell_type": "markdown",
      "metadata": {
        "application/vnd.databricks.v1+cell": {
          "cellMetadata": {},
          "inputWidgets": {},
          "nuid": "ce8d0a6f-c11f-49c6-bbe6-86a79b0ddf66",
          "showTitle": false,
          "tableResultSettingsMap": {},
          "title": ""
        },
        "id": "aNdsRZHRR5AS"
      },
      "source": [
        "**13. You are working with a large Delta table that is frequently updated by multiple users. The data is stored in partitions, and sometimes updates can cause inconsistent reads due to concurrent transactions. How would you ensure ACID compliance and avoid data corruption in PySpark?**"
      ]
    },
    {
      "cell_type": "code",
      "execution_count": null,
      "metadata": {
        "application/vnd.databricks.v1+cell": {
          "cellMetadata": {},
          "inputWidgets": {},
          "nuid": "58b531a8-3ac6-4b09-b951-84f33625c89c",
          "showTitle": false,
          "tableResultSettingsMap": {},
          "title": ""
        },
        "id": "kH-w8SH6R5AT"
      },
      "outputs": [],
      "source": []
    },
    {
      "cell_type": "markdown",
      "metadata": {
        "application/vnd.databricks.v1+cell": {
          "cellMetadata": {},
          "inputWidgets": {},
          "nuid": "85e69a4f-8d5a-4869-8077-8eb98549193c",
          "showTitle": false,
          "tableResultSettingsMap": {},
          "title": ""
        },
        "id": "7LUC5XX_R5AT"
      },
      "source": [
        "**14. You need to process a large dataset stored in PARQUET format and ensure that all columns have the right schema (Almost). How would you do this?**"
      ]
    },
    {
      "cell_type": "code",
      "execution_count": null,
      "metadata": {
        "application/vnd.databricks.v1+cell": {
          "cellMetadata": {},
          "inputWidgets": {},
          "nuid": "ca277d01-7f03-4b34-b60b-03f2c3feb7e9",
          "showTitle": false,
          "tableResultSettingsMap": {},
          "title": ""
        },
        "id": "a1Zt92p5R5AU"
      },
      "outputs": [],
      "source": []
    },
    {
      "cell_type": "markdown",
      "metadata": {
        "application/vnd.databricks.v1+cell": {
          "cellMetadata": {},
          "inputWidgets": {},
          "nuid": "170f33b8-6c07-4693-8ba5-6a7a1d2d00ff",
          "showTitle": false,
          "tableResultSettingsMap": {},
          "title": ""
        },
        "id": "vjqYZqY4R5AU"
      },
      "source": [
        "**15. You are reading a CSV file and need to handle corrupt records gracefully by skipping them. How would you configure this in PySpark?**"
      ]
    },
    {
      "cell_type": "code",
      "execution_count": null,
      "metadata": {
        "application/vnd.databricks.v1+cell": {
          "cellMetadata": {},
          "inputWidgets": {},
          "nuid": "762b0800-277b-4d0e-9351-5e35081d6a7b",
          "showTitle": false,
          "tableResultSettingsMap": {},
          "title": ""
        },
        "id": "R3p5bhhzR5AU"
      },
      "outputs": [],
      "source": []
    },
    {
      "cell_type": "markdown",
      "metadata": {
        "application/vnd.databricks.v1+cell": {
          "cellMetadata": {},
          "inputWidgets": {},
          "nuid": "471f2e09-637d-47c0-bed7-31d5ebd09893",
          "showTitle": false,
          "tableResultSettingsMap": {},
          "title": ""
        },
        "id": "5pk87BEnR5AU"
      },
      "source": [
        "**22. You have a dataset containing the names of employees and their departments. You need to find the department with the most employees.**"
      ]
    },
    {
      "cell_type": "code",
      "execution_count": null,
      "metadata": {
        "application/vnd.databricks.v1+cell": {
          "cellMetadata": {
            "byteLimit": 2048000,
            "rowLimit": 10000
          },
          "inputWidgets": {},
          "nuid": "76ab8fc1-63a8-4e2b-94ae-1c9972fdd986",
          "showTitle": false,
          "tableResultSettingsMap": {},
          "title": ""
        },
        "id": "VygAYmo6R5AU"
      },
      "outputs": [],
      "source": [
        "data = [(\"Alice\", \"HR\"), (\"Bob\", \"Finance\"), (\"Charlie\", \"HR\"), (\"David\", \"Engineering\"), (\"Eve\", \"Finance\")]\n",
        "columns = [\"employee_name\", \"department\"]\n",
        "\n",
        "df = spark.createDataFrame(data, columns)\n",
        "df.show()\n",
        "\n",
        "df=df.groupBy('department').count().orderBy('count',ascending=False).filter(col('count')>=2)\n",
        "df.show()"
      ]
    },
    {
      "cell_type": "code",
      "execution_count": null,
      "metadata": {
        "application/vnd.databricks.v1+cell": {
          "cellMetadata": {},
          "inputWidgets": {},
          "nuid": "1a0ed6d5-4fda-450c-b572-a74dea5cd142",
          "showTitle": false,
          "tableResultSettingsMap": {},
          "title": ""
        },
        "id": "mitCNbtlR5AV"
      },
      "outputs": [],
      "source": []
    },
    {
      "cell_type": "markdown",
      "metadata": {
        "application/vnd.databricks.v1+cell": {
          "cellMetadata": {},
          "inputWidgets": {},
          "nuid": "0db0a70a-aa4a-454d-aa7e-6c4d41ccd971",
          "showTitle": false,
          "tableResultSettingsMap": {},
          "title": ""
        },
        "id": "3P1S9lb0R5AV"
      },
      "source": [
        "**23. While processing sales data, you need to classify each transaction as either 'High' or 'Low' based on its amount. How would you achieve this using a when condition**"
      ]
    },
    {
      "cell_type": "code",
      "execution_count": null,
      "metadata": {
        "application/vnd.databricks.v1+cell": {
          "cellMetadata": {
            "byteLimit": 2048000,
            "rowLimit": 10000
          },
          "inputWidgets": {},
          "nuid": "f36aeace-6389-42fd-bdb5-8c5211ce3fa1",
          "showTitle": false,
          "tableResultSettingsMap": {},
          "title": ""
        },
        "id": "evg9frGRR5AV"
      },
      "outputs": [],
      "source": [
        "data = [(\"product1\", 100), (\"product2\", 300), (\"product3\", 50)]\n",
        "columns = [\"product_id\", \"sales\"]\n",
        "\n",
        "df = spark.createDataFrame(data, columns)\n",
        "df.show()\n",
        "\n",
        "#soluiton\n",
        "df=df.withColumn('sales_class',when(col('sales')>200,'High').otherwise('Low'))\n",
        "df.show()"
      ]
    },
    {
      "cell_type": "code",
      "execution_count": null,
      "metadata": {
        "application/vnd.databricks.v1+cell": {
          "cellMetadata": {},
          "inputWidgets": {},
          "nuid": "10f160e6-eac4-413d-bdcd-6faff5957d28",
          "showTitle": false,
          "tableResultSettingsMap": {},
          "title": ""
        },
        "id": "zHLCLP7HR5AV"
      },
      "outputs": [],
      "source": []
    },
    {
      "cell_type": "markdown",
      "metadata": {
        "application/vnd.databricks.v1+cell": {
          "cellMetadata": {},
          "inputWidgets": {},
          "nuid": "4ba5720a-72b0-4598-ab0e-e20daca0cb8a",
          "showTitle": false,
          "tableResultSettingsMap": {},
          "title": ""
        },
        "id": "ZPTfyBTzR5AV"
      },
      "source": [
        "**24. While analyzing a large dataset, you need to create a new column that holds a timestamp of when the record was processed. How would you implement this and what can be the best USE CASE?**"
      ]
    },
    {
      "cell_type": "code",
      "execution_count": null,
      "metadata": {
        "application/vnd.databricks.v1+cell": {
          "cellMetadata": {
            "byteLimit": 2048000,
            "rowLimit": 10000
          },
          "inputWidgets": {},
          "nuid": "2b6e90a9-dabc-4efd-b08a-ebcd18cc0775",
          "showTitle": false,
          "tableResultSettingsMap": {},
          "title": ""
        },
        "id": "9_DEjKsZR5AV"
      },
      "outputs": [],
      "source": [
        "data = [(\"product1\", 100), (\"product2\", 200), (\"product3\", 300)]\n",
        "columns = [\"product_id\", \"sales\"]\n",
        "\n",
        "df = spark.createDataFrame(data, columns)\n",
        "df.show()\n",
        "df=df.withColumn('timestamp',current_timestamp())\n",
        "df.show()"
      ]
    },
    {
      "cell_type": "code",
      "execution_count": null,
      "metadata": {
        "application/vnd.databricks.v1+cell": {
          "cellMetadata": {},
          "inputWidgets": {},
          "nuid": "b4f7adb2-93c9-4e91-8d2f-ea54987c55f4",
          "showTitle": false,
          "tableResultSettingsMap": {},
          "title": ""
        },
        "id": "8spFzJ19R5AW"
      },
      "outputs": [],
      "source": []
    },
    {
      "cell_type": "markdown",
      "metadata": {
        "application/vnd.databricks.v1+cell": {
          "cellMetadata": {},
          "inputWidgets": {},
          "nuid": "4afedb5a-b14e-43b8-b128-c6945ac1b7ad",
          "showTitle": false,
          "tableResultSettingsMap": {},
          "title": ""
        },
        "id": "UwOMsP16R5AW"
      },
      "source": [
        "**25. You need to register this PySpark DataFrame as a temporary SQL object and run a query on it. How would you achieve this?**"
      ]
    },
    {
      "cell_type": "code",
      "execution_count": null,
      "metadata": {
        "application/vnd.databricks.v1+cell": {
          "cellMetadata": {
            "byteLimit": 2048000,
            "rowLimit": 10000
          },
          "inputWidgets": {},
          "nuid": "e808204e-3dfa-4711-9c1e-3c41b6dae9e0",
          "showTitle": false,
          "tableResultSettingsMap": {},
          "title": ""
        },
        "id": "PRk9iajLR5AW"
      },
      "outputs": [],
      "source": [
        "data = [(\"product1\", 100), (\"product2\", 200), (\"product3\", 300)]\n",
        "columns = [\"product_id\", \"sales\"]\n",
        "\n",
        "df = spark.createDataFrame(data, columns)\n",
        "df.show()\n",
        "\n",
        "df=df.createOrReplaceTempView('temp_table')\n",
        "spark.sql('select * from temp_table where sales >150').show()"
      ]
    },
    {
      "cell_type": "code",
      "execution_count": null,
      "metadata": {
        "application/vnd.databricks.v1+cell": {
          "cellMetadata": {},
          "inputWidgets": {},
          "nuid": "4834f1fc-813e-4b37-95e7-a447034b25e2",
          "showTitle": false,
          "tableResultSettingsMap": {},
          "title": ""
        },
        "id": "qQEfHKp0R5AW"
      },
      "outputs": [],
      "source": []
    },
    {
      "cell_type": "markdown",
      "metadata": {
        "application/vnd.databricks.v1+cell": {
          "cellMetadata": {},
          "inputWidgets": {},
          "nuid": "cd45ba64-911e-42ad-a545-fd1a1a734020",
          "showTitle": false,
          "tableResultSettingsMap": {},
          "title": ""
        },
        "id": "JE63E9PBR5AW"
      },
      "source": [
        "**26. You need to register this PySpark DataFrame as a temporary SQL object and run a query on it (FROM DIFFERENT NOTEBOOKS AS WELL)?**"
      ]
    },
    {
      "cell_type": "code",
      "execution_count": null,
      "metadata": {
        "application/vnd.databricks.v1+cell": {
          "cellMetadata": {},
          "inputWidgets": {},
          "nuid": "64c23351-bcdf-403f-8fcb-ff12a094f154",
          "showTitle": false,
          "tableResultSettingsMap": {},
          "title": ""
        },
        "id": "JEvIvF4RR5AW"
      },
      "outputs": [],
      "source": [
        "data = [(\"product1\", 100), (\"product2\", 200), (\"product3\", 300)]\n",
        "columns = [\"product_id\", \"sales\"]\n",
        "\n",
        "spark.sql('select * from temp_table where sales >150').show()"
      ]
    },
    {
      "cell_type": "markdown",
      "metadata": {
        "application/vnd.databricks.v1+cell": {
          "cellMetadata": {},
          "inputWidgets": {},
          "nuid": "12bfd204-4c17-4e18-87fb-a96518d7416a",
          "showTitle": false,
          "tableResultSettingsMap": {},
          "title": ""
        },
        "id": "kYISmqnRR5AX"
      },
      "source": [
        "**27. You need to query data from a PySpark DataFrame using SQL, but the data includes a nested structure. How would you flatten the data for easier querying?**"
      ]
    },
    {
      "cell_type": "code",
      "execution_count": null,
      "metadata": {
        "application/vnd.databricks.v1+cell": {
          "cellMetadata": {
            "byteLimit": 2048000,
            "rowLimit": 10000
          },
          "inputWidgets": {},
          "nuid": "207b6f91-f20e-41a5-81c3-6bec10435773",
          "showTitle": false,
          "tableResultSettingsMap": {},
          "title": ""
        },
        "id": "DIpXGDHAR5AX"
      },
      "outputs": [],
      "source": [
        "data = [(\"product1\", {\"price\": 100, \"quantity\": 2}),\n",
        "        (\"product2\", {\"price\": 200, \"quantity\": 3})]\n",
        "columns = [\"product_id\", \"product_info\"]\n",
        "\n",
        "df = spark.createDataFrame(data, columns)\n",
        "df.show()\n",
        "#solution\n",
        "df=df.withColumn('price',col('product_info.price')).withColumn('quantity',col('product_info.quantity'))\n",
        "df.show()"
      ]
    },
    {
      "cell_type": "code",
      "execution_count": null,
      "metadata": {
        "application/vnd.databricks.v1+cell": {
          "cellMetadata": {},
          "inputWidgets": {},
          "nuid": "f84176f4-4723-4b01-abef-531e76b0a730",
          "showTitle": false,
          "tableResultSettingsMap": {},
          "title": ""
        },
        "id": "1Qryko-PR5AX"
      },
      "outputs": [],
      "source": []
    },
    {
      "cell_type": "markdown",
      "metadata": {
        "application/vnd.databricks.v1+cell": {
          "cellMetadata": {},
          "inputWidgets": {},
          "nuid": "2b2cb267-05c9-430d-bda1-ec1367502a8d",
          "showTitle": false,
          "tableResultSettingsMap": {},
          "title": ""
        },
        "id": "N3zWso0mR5AX"
      },
      "source": [
        "**28. You are ingesting data from an external API in JSON format where the schema is inconsistent. How would you handle this situation to ensure a robust pipeline?**"
      ]
    },
    {
      "cell_type": "markdown",
      "source": [
        "Design (Bronze → Silver)\n",
        "\n",
        "Bronze (raw): land the whole API payload as a string + metadata (ingest time, source id, hash). Don’t assume a schema here.\n",
        "\n",
        "Schema evolution: infer the new schema from the latest batch, merge it with the current schema, and only then parse.\n",
        "\n",
        "Silver (normalized): from_json into a merged target StructType, coerce types, quarantine bad rows, and write to a table that supports schema evolution (Delta/Iceberg/Hudi)."
      ],
      "metadata": {
        "id": "8js2PzUbYIhv"
      }
    },
    {
      "cell_type": "code",
      "execution_count": null,
      "metadata": {
        "application/vnd.databricks.v1+cell": {
          "cellMetadata": {},
          "inputWidgets": {},
          "nuid": "89ce7dee-017a-47a2-91c0-f8f9e8c15f26",
          "showTitle": false,
          "tableResultSettingsMap": {},
          "title": ""
        },
        "id": "K6KeZu3gR5AX"
      },
      "outputs": [],
      "source": []
    },
    {
      "cell_type": "markdown",
      "metadata": {
        "application/vnd.databricks.v1+cell": {
          "cellMetadata": {},
          "inputWidgets": {},
          "nuid": "7069dce2-ec80-4bf3-a914-762902e2ed88",
          "showTitle": false,
          "tableResultSettingsMap": {},
          "title": ""
        },
        "id": "XBf486d-R5AX"
      },
      "source": [
        "**29. While reading data from Parquet, you need to optimize performance by partitioning the data based on a column. How would you implement this?**"
      ]
    },
    {
      "cell_type": "code",
      "execution_count": null,
      "metadata": {
        "application/vnd.databricks.v1+cell": {
          "cellMetadata": {},
          "inputWidgets": {},
          "nuid": "2db9363c-78d1-42bd-b9a9-df732d30ec0a",
          "showTitle": false,
          "tableResultSettingsMap": {},
          "title": ""
        },
        "id": "dXe894dXR5AY"
      },
      "outputs": [],
      "source": [
        "df.write.format('parquet').mode('append').partitionBy('category').save('path')"
      ]
    },
    {
      "cell_type": "markdown",
      "metadata": {
        "application/vnd.databricks.v1+cell": {
          "cellMetadata": {},
          "inputWidgets": {},
          "nuid": "4159e62e-0e57-4175-9933-b78981e64e4a",
          "showTitle": false,
          "tableResultSettingsMap": {},
          "title": ""
        },
        "id": "qijSAXPpR5AY"
      },
      "source": [
        "**30. You are working with a large dataset in Parquet format and need to ensure that the data is written in an optimized manner with proper compression. How would you accomplish this?**"
      ]
    },
    {
      "cell_type": "code",
      "execution_count": null,
      "metadata": {
        "application/vnd.databricks.v1+cell": {
          "cellMetadata": {},
          "inputWidgets": {},
          "nuid": "394a5d85-6324-404c-b3bf-58ebd24896ee",
          "showTitle": false,
          "tableResultSettingsMap": {},
          "title": ""
        },
        "id": "MRkzEF0WR5AY"
      },
      "outputs": [],
      "source": [
        "df.write.format('parquet').mode('append').option('compression','snappy').save('path')"
      ]
    },
    {
      "cell_type": "markdown",
      "metadata": {
        "application/vnd.databricks.v1+cell": {
          "cellMetadata": {},
          "inputWidgets": {},
          "nuid": "bd4673ec-b00c-4769-af90-f82777123166",
          "showTitle": false,
          "tableResultSettingsMap": {},
          "title": ""
        },
        "id": "vqLdMk1bR5AY"
      },
      "source": [
        "**31. Your company uses a large-scale data pipeline that reads from Delta tables and processes data using complex aggregations. However, performance is becoming an issue due to the growing dataset size. How would you optimize the performance of the pipeline?**"
      ]
    },
    {
      "cell_type": "code",
      "execution_count": null,
      "metadata": {
        "application/vnd.databricks.v1+cell": {
          "cellMetadata": {},
          "inputWidgets": {},
          "nuid": "7ae2f8b2-c014-4c8f-885a-5dc58f829580",
          "showTitle": false,
          "tableResultSettingsMap": {},
          "title": ""
        },
        "id": "M2d38DAsR5AY"
      },
      "outputs": [],
      "source": []
    },
    {
      "cell_type": "markdown",
      "metadata": {
        "application/vnd.databricks.v1+cell": {
          "cellMetadata": {},
          "inputWidgets": {},
          "nuid": "aac3f322-a244-4b82-808a-c5c4e5e8a4b0",
          "showTitle": false,
          "tableResultSettingsMap": {},
          "title": ""
        },
        "id": "3nW-53PfR5AY"
      },
      "source": [
        "**43. You are processing sales data. Group by product categories and create a list of all product names in each category.**"
      ]
    },
    {
      "cell_type": "code",
      "execution_count": null,
      "metadata": {
        "application/vnd.databricks.v1+cell": {
          "cellMetadata": {
            "byteLimit": 2048000,
            "rowLimit": 10000
          },
          "inputWidgets": {},
          "nuid": "0fb72285-393b-4dae-a1dd-bd13f5116dba",
          "showTitle": false,
          "tableResultSettingsMap": {},
          "title": ""
        },
        "id": "A5urSoxmR5AY"
      },
      "outputs": [],
      "source": [
        "data = [(\"Electronics\", \"Laptop\"), (\"Electronics\", \"Smartphone\"), (\"Furniture\", \"Chair\"), (\"Furniture\", \"Table\")]\n",
        "columns = [\"category\", \"product\"]\n",
        "df = spark.createDataFrame(data, columns)\n",
        "df.show()\n",
        "#solution\n",
        "df=df.groupBy('category').agg(collect_list('product').alias('product_list'))\n",
        "df.show()"
      ]
    },
    {
      "cell_type": "code",
      "execution_count": null,
      "metadata": {
        "application/vnd.databricks.v1+cell": {
          "cellMetadata": {},
          "inputWidgets": {},
          "nuid": "d766db09-a3c9-4d91-a66e-64487bbdd86e",
          "showTitle": false,
          "tableResultSettingsMap": {},
          "title": ""
        },
        "id": "HzpEhbKiR5AZ"
      },
      "outputs": [],
      "source": []
    },
    {
      "cell_type": "markdown",
      "metadata": {
        "application/vnd.databricks.v1+cell": {
          "cellMetadata": {},
          "inputWidgets": {},
          "nuid": "d2ca78ee-707f-43f5-8e8f-59734fa84c71",
          "showTitle": false,
          "tableResultSettingsMap": {},
          "title": ""
        },
        "id": "jN8Mar5yR5AZ"
      },
      "source": [
        "**44. You are analyzing orders. Group by customer IDs and list all unique product IDs each customer purchased.**"
      ]
    },
    {
      "cell_type": "code",
      "execution_count": null,
      "metadata": {
        "application/vnd.databricks.v1+cell": {
          "cellMetadata": {
            "byteLimit": 2048000,
            "rowLimit": 10000
          },
          "inputWidgets": {},
          "nuid": "86e91e98-03b5-4e19-9490-409bd1b16427",
          "showTitle": false,
          "tableResultSettingsMap": {},
          "title": ""
        },
        "id": "PAnPWJNIR5AZ"
      },
      "outputs": [],
      "source": [
        "data = [(101, \"P001\"), (101, \"P002\"), (102, \"P001\"), (101, \"P001\")]\n",
        "columns = [\"customer_id\", \"product_id\"]\n",
        "df = spark.createDataFrame(data, columns)\n",
        "df.show()\n",
        "df=df.withColumn('product_list',collect_list('product_id').over(Window.partitionBy('customer_id')))\n",
        "df.show()"
      ]
    },
    {
      "cell_type": "code",
      "execution_count": null,
      "metadata": {
        "application/vnd.databricks.v1+cell": {
          "cellMetadata": {},
          "inputWidgets": {},
          "nuid": "f6df067b-9db9-4ade-875f-3108e81b3376",
          "showTitle": false,
          "tableResultSettingsMap": {},
          "title": ""
        },
        "id": "3V7oKsDiR5AZ"
      },
      "outputs": [],
      "source": []
    },
    {
      "cell_type": "markdown",
      "metadata": {
        "application/vnd.databricks.v1+cell": {
          "cellMetadata": {},
          "inputWidgets": {},
          "nuid": "7fba5125-db94-4e77-a24b-d8a0cfd4e12e",
          "showTitle": false,
          "tableResultSettingsMap": {},
          "title": ""
        },
        "id": "xsdXrVzjR5AZ"
      },
      "source": [
        "**45. For customer records, combine first and last names only if the email address exists.**"
      ]
    },
    {
      "cell_type": "code",
      "execution_count": null,
      "metadata": {
        "application/vnd.databricks.v1+cell": {
          "cellMetadata": {
            "byteLimit": 2048000,
            "rowLimit": 10000
          },
          "inputWidgets": {},
          "nuid": "2ff10813-ebd2-4f7d-8218-95b073dc4d14",
          "showTitle": false,
          "tableResultSettingsMap": {},
          "title": ""
        },
        "id": "ezxUGxYsR5Aa"
      },
      "outputs": [],
      "source": [
        "data = [(\"John\", \"Doe\", \"john.doe@example.com\"), (\"Jane\", \"Smith\", None)]\n",
        "columns = [\"first_name\", \"last_name\", \"email\"]\n",
        "df = spark.createDataFrame(data, columns)\n",
        "df.show()\n",
        "df=df.withColumn('full_name',concat_ws(' ',col('first_name'),col('last_name'))).filter(col('email').isNotNull())\n",
        "df.show()"
      ]
    },
    {
      "cell_type": "code",
      "execution_count": null,
      "metadata": {
        "application/vnd.databricks.v1+cell": {
          "cellMetadata": {},
          "inputWidgets": {},
          "nuid": "e25ccb2b-a6e0-45a3-97d4-d5896875652b",
          "showTitle": false,
          "tableResultSettingsMap": {},
          "title": ""
        },
        "id": "2MGV3f2oR5Aa"
      },
      "outputs": [],
      "source": []
    },
    {
      "cell_type": "markdown",
      "metadata": {
        "application/vnd.databricks.v1+cell": {
          "cellMetadata": {},
          "inputWidgets": {},
          "nuid": "7420aad9-8291-49e8-84b6-6d624d8933a9",
          "showTitle": false,
          "tableResultSettingsMap": {},
          "title": ""
        },
        "id": "3Wsi9GsuR5Aa"
      },
      "source": [
        "**46. You have a DataFrame containing customer IDs and a list of their purchased product IDs. Calculate the number of products each customer has purchased.**"
      ]
    },
    {
      "cell_type": "code",
      "execution_count": null,
      "metadata": {
        "application/vnd.databricks.v1+cell": {
          "cellMetadata": {
            "byteLimit": 2048000,
            "rowLimit": 10000
          },
          "inputWidgets": {},
          "nuid": "93b10669-bed9-4a58-a9a5-9490f2fa140d",
          "showTitle": false,
          "tableResultSettingsMap": {},
          "title": ""
        },
        "id": "qJgjQNl0R5Aa"
      },
      "outputs": [],
      "source": [
        "data = [\n",
        "    (1, [\"prod1\", \"prod2\", \"prod3\"]),\n",
        "    (2, [\"prod4\"]),\n",
        "    (3, [\"prod5\", \"prod6\"]),\n",
        "]\n",
        "myschema = \"customer_id INT ,product_ids array<STRING>\"\n",
        "\n",
        "df = spark.createDataFrame(data, myschema)\n",
        "df.show()\n",
        "\n",
        "df=df.withColumn('product_count',size(col('product_ids')))\n",
        "df.show()"
      ]
    },
    {
      "cell_type": "code",
      "execution_count": null,
      "metadata": {
        "application/vnd.databricks.v1+cell": {
          "cellMetadata": {},
          "inputWidgets": {},
          "nuid": "59e1616e-233a-4252-9553-c781e26df046",
          "showTitle": false,
          "tableResultSettingsMap": {},
          "title": ""
        },
        "id": "ifksKwBUR5Aa"
      },
      "outputs": [],
      "source": []
    },
    {
      "cell_type": "markdown",
      "metadata": {
        "application/vnd.databricks.v1+cell": {
          "cellMetadata": {},
          "inputWidgets": {},
          "nuid": "5c009ab5-aa34-422c-a024-5a5c3d634e6e",
          "showTitle": false,
          "tableResultSettingsMap": {},
          "title": ""
        },
        "id": "GL7iF-ZcR5Ab"
      },
      "source": [
        "**47. You have employee IDs of varying lengths. Ensure all IDs are 6 characters long by padding with leading zeroes.**"
      ]
    },
    {
      "cell_type": "code",
      "execution_count": null,
      "metadata": {
        "application/vnd.databricks.v1+cell": {
          "cellMetadata": {
            "byteLimit": 2048000,
            "rowLimit": 10000
          },
          "inputWidgets": {},
          "nuid": "8958ab58-6618-4ba1-bf8a-730c53a57ea8",
          "showTitle": false,
          "tableResultSettingsMap": {},
          "title": ""
        },
        "id": "Z-CwrnfNR5Ab"
      },
      "outputs": [],
      "source": [
        "data = [\n",
        "    (\"1\",),\n",
        "    (\"123\",),\n",
        "    (\"4567\",),\n",
        "]\n",
        "schema = [\"employee_id\"]\n",
        "\n",
        "df = spark.createDataFrame(data, schema)\n",
        "df.show()\n",
        "\n",
        "df=df.withColumn('employee_id',lpad(col('employee_id'),6,'0'))\n",
        "df.show()"
      ]
    },
    {
      "cell_type": "code",
      "execution_count": null,
      "metadata": {
        "application/vnd.databricks.v1+cell": {
          "cellMetadata": {},
          "inputWidgets": {},
          "nuid": "e0c52074-0093-40f7-89a0-0805bd95c85c",
          "showTitle": false,
          "tableResultSettingsMap": {},
          "title": ""
        },
        "id": "IygRi6klR5Ab"
      },
      "outputs": [],
      "source": []
    },
    {
      "cell_type": "markdown",
      "metadata": {
        "application/vnd.databricks.v1+cell": {
          "cellMetadata": {},
          "inputWidgets": {},
          "nuid": "9d12198b-4d55-4090-9c56-b7d8101e5571",
          "showTitle": false,
          "tableResultSettingsMap": {},
          "title": ""
        },
        "id": "IxgkLO0KR5Ab"
      },
      "source": [
        "**48. You need to validate phone numbers by checking if they start with \"91\"**"
      ]
    },
    {
      "cell_type": "code",
      "execution_count": null,
      "metadata": {
        "application/vnd.databricks.v1+cell": {
          "cellMetadata": {
            "byteLimit": 2048000,
            "rowLimit": 10000
          },
          "inputWidgets": {},
          "nuid": "c22729f4-f141-44c8-9748-c8437f68660d",
          "showTitle": false,
          "tableResultSettingsMap": {},
          "title": ""
        },
        "id": "bMDVRp4FR5Ab"
      },
      "outputs": [],
      "source": [
        "data = [\n",
        "    (\"911234567890\",),\n",
        "    (\"811234567890\",),\n",
        "    (\"912345678901\",),\n",
        "]\n",
        "schema = [\"phone_number\"]\n",
        "\n",
        "df = spark.createDataFrame(data, schema)\n",
        "df.show()\n",
        "df=df.withColumn('is_valid',col('phone_number').startswith('91'))\n",
        "df.show()"
      ]
    },
    {
      "cell_type": "code",
      "execution_count": null,
      "metadata": {
        "application/vnd.databricks.v1+cell": {
          "cellMetadata": {},
          "inputWidgets": {},
          "nuid": "51aa4c07-8f0a-4ae5-87c5-e080cc18206b",
          "showTitle": false,
          "tableResultSettingsMap": {},
          "title": ""
        },
        "id": "ic9CXyUgR5Ab"
      },
      "outputs": [],
      "source": []
    },
    {
      "cell_type": "markdown",
      "metadata": {
        "application/vnd.databricks.v1+cell": {
          "cellMetadata": {},
          "inputWidgets": {},
          "nuid": "3bf65eb8-4376-4bdd-a4a9-b9c7ebaf1344",
          "showTitle": false,
          "tableResultSettingsMap": {},
          "title": ""
        },
        "id": "hxU_AS6JR5Ab"
      },
      "source": [
        "**49. You have a dataset with courses taken by students. Calculate the average number of courses per student.**"
      ]
    },
    {
      "cell_type": "code",
      "execution_count": null,
      "metadata": {
        "application/vnd.databricks.v1+cell": {
          "cellMetadata": {
            "byteLimit": 2048000,
            "rowLimit": 10000
          },
          "inputWidgets": {},
          "nuid": "b719eb07-fd88-4822-951a-640cc0f24ac1",
          "showTitle": false,
          "tableResultSettingsMap": {},
          "title": ""
        },
        "colab": {
          "base_uri": "https://localhost:8080/"
        },
        "id": "GumySp-KR5Ac",
        "outputId": "61983908-8d42-47a0-c52c-85cf5043a4f2"
      },
      "outputs": [
        {
          "output_type": "stream",
          "name": "stdout",
          "text": [
            "+----------+------------------+\n",
            "|student_id|           courses|\n",
            "+----------+------------------+\n",
            "|         1|   [Math, Science]|\n",
            "|         2|         [History]|\n",
            "|         3|[Art, PE, Biology]|\n",
            "+----------+------------------+\n",
            "\n",
            "+----------+------------------+------------+\n",
            "|student_id|           courses|course_count|\n",
            "+----------+------------------+------------+\n",
            "|         1|   [Math, Science]|           2|\n",
            "|         2|         [History]|           1|\n",
            "|         3|[Art, PE, Biology]|           3|\n",
            "+----------+------------------+------------+\n",
            "\n",
            "+----------+----------------+\n",
            "|student_id|avg_course_count|\n",
            "+----------+----------------+\n",
            "|         1|             2.0|\n",
            "|         3|             3.0|\n",
            "|         2|             1.0|\n",
            "+----------+----------------+\n",
            "\n"
          ]
        }
      ],
      "source": [
        "data = [\n",
        "    (1, [\"Math\", \"Science\"]),\n",
        "    (2, [\"History\"]),\n",
        "    (3, [\"Art\", \"PE\", \"Biology\"]),\n",
        "]\n",
        "schema = [\"student_id\", \"courses\"]\n",
        "\n",
        "df = spark.createDataFrame(data, schema)\n",
        "df.show()\n",
        "\n",
        "df=df.withColumn('course_count',size(col('courses')))\n",
        "df.show()\n",
        "\n",
        "df=df.groupBy('student_id').agg(avg(size(col('courses'))).alias('avg_course_count'))\n",
        "df.show()"
      ]
    },
    {
      "cell_type": "code",
      "execution_count": null,
      "metadata": {
        "application/vnd.databricks.v1+cell": {
          "cellMetadata": {},
          "inputWidgets": {},
          "nuid": "ce0ae4b6-7cd6-47e5-a0b8-55cecd6835ca",
          "showTitle": false,
          "tableResultSettingsMap": {},
          "title": ""
        },
        "id": "JgdFmD47R5Ac"
      },
      "outputs": [],
      "source": []
    },
    {
      "cell_type": "markdown",
      "metadata": {
        "application/vnd.databricks.v1+cell": {
          "cellMetadata": {},
          "inputWidgets": {},
          "nuid": "b7a19420-1b74-4a69-beb0-68780450d8d4",
          "showTitle": false,
          "tableResultSettingsMap": {},
          "title": ""
        },
        "id": "iZFuCTDBR5Ac"
      },
      "source": [
        "**50. You have a dataset with primary and secondary contact numbers. Use the primary number if available; otherwise, use the secondary number.**"
      ]
    },
    {
      "cell_type": "code",
      "execution_count": null,
      "metadata": {
        "application/vnd.databricks.v1+cell": {
          "cellMetadata": {
            "byteLimit": 2048000,
            "rowLimit": 10000
          },
          "inputWidgets": {},
          "nuid": "c641a064-be2f-4057-bb0e-f331cfef2628",
          "showTitle": false,
          "tableResultSettingsMap": {},
          "title": ""
        },
        "colab": {
          "base_uri": "https://localhost:8080/"
        },
        "id": "DU0PhohGR5Ac",
        "outputId": "cb6968d1-0e72-4751-b75d-8ca4cceb7f2d"
      },
      "outputs": [
        {
          "output_type": "stream",
          "name": "stdout",
          "text": [
            "+---------------+-----------------+\n",
            "|primary_contact|secondary_contact|\n",
            "+---------------+-----------------+\n",
            "|           NULL|       1234567890|\n",
            "|     9876543210|             NULL|\n",
            "|     7894561230|       4567891230|\n",
            "+---------------+-----------------+\n",
            "\n",
            "+---------------+-----------------+----------+\n",
            "|primary_contact|secondary_contact|   contact|\n",
            "+---------------+-----------------+----------+\n",
            "|           NULL|       1234567890|1234567890|\n",
            "|     9876543210|             NULL|9876543210|\n",
            "|     7894561230|       4567891230|7894561230|\n",
            "+---------------+-----------------+----------+\n",
            "\n"
          ]
        }
      ],
      "source": [
        "data = [\n",
        "    (None, \"1234567890\"),\n",
        "    (\"9876543210\", None),\n",
        "    (\"7894561230\", \"4567891230\"),\n",
        "]\n",
        "schema = [\"primary_contact\", \"secondary_contact\"]\n",
        "\n",
        "df = spark.createDataFrame(data, schema)\n",
        "df.show()\n",
        "\n",
        "df=df.withColumn('contact',when(col('primary_contact').isNotNull(),col('primary_contact')).otherwise(col('secondary_contact')))\n",
        "df.show()"
      ]
    },
    {
      "cell_type": "code",
      "execution_count": null,
      "metadata": {
        "application/vnd.databricks.v1+cell": {
          "cellMetadata": {},
          "inputWidgets": {},
          "nuid": "a96c8594-4b1e-4c0b-9f75-26d5af12929f",
          "showTitle": false,
          "tableResultSettingsMap": {},
          "title": ""
        },
        "id": "Gv4vfyleR5Ac"
      },
      "outputs": [],
      "source": []
    },
    {
      "cell_type": "markdown",
      "metadata": {
        "application/vnd.databricks.v1+cell": {
          "cellMetadata": {},
          "inputWidgets": {},
          "nuid": "cddb992d-372b-48dd-b378-4b04a936393a",
          "showTitle": false,
          "tableResultSettingsMap": {},
          "title": ""
        },
        "id": "StRP4_OgR5Ac"
      },
      "source": [
        "**51. You are categorizing product codes based on their lengths. If the length is 5, label it as \"Standard\"; otherwise, label it as \"Custom\".**"
      ]
    },
    {
      "cell_type": "code",
      "execution_count": null,
      "metadata": {
        "application/vnd.databricks.v1+cell": {
          "cellMetadata": {
            "byteLimit": 2048000,
            "rowLimit": 10000
          },
          "inputWidgets": {},
          "nuid": "1a2affef-43d3-4371-b212-14a77475abd6",
          "showTitle": false,
          "tableResultSettingsMap": {},
          "title": ""
        },
        "colab": {
          "base_uri": "https://localhost:8080/"
        },
        "id": "Y9Z57EHoR5Ac",
        "outputId": "22b75de8-0148-4b11-e8a0-03759ae69410"
      },
      "outputs": [
        {
          "output_type": "stream",
          "name": "stdout",
          "text": [
            "+------------+\n",
            "|product_code|\n",
            "+------------+\n",
            "|       prod1|\n",
            "|      prd234|\n",
            "|      pr9876|\n",
            "+------------+\n",
            "\n",
            "+------------+--------+\n",
            "|product_code|category|\n",
            "+------------+--------+\n",
            "|       prod1|Standard|\n",
            "|      prd234|  Custom|\n",
            "|      pr9876|  Custom|\n",
            "+------------+--------+\n",
            "\n"
          ]
        }
      ],
      "source": [
        "data = [\n",
        "    (\"prod1\",),\n",
        "    (\"prd234\",),\n",
        "    (\"pr9876\",),\n",
        "]\n",
        "schema = [\"product_code\"]\n",
        "\n",
        "df = spark.createDataFrame(data, schema)\n",
        "df.show()\n",
        "\n",
        "df=df.withColumn('category',when(length(col('product_code'))==5,'Standard').otherwise('Custom'))\n",
        "df.show()"
      ]
    },
    {
      "cell_type": "code",
      "execution_count": null,
      "metadata": {
        "application/vnd.databricks.v1+cell": {
          "cellMetadata": {},
          "inputWidgets": {},
          "nuid": "298b32c1-ec0d-4bbf-b647-1886139cb6a9",
          "showTitle": false,
          "tableResultSettingsMap": {},
          "title": ""
        },
        "id": "-7ch9L01R5Ac"
      },
      "outputs": [],
      "source": []
    },
    {
      "cell_type": "markdown",
      "source": [
        "52. Write the Pyspark code to convert table1 to table2!\n",
        "![Problem1.png](data:image/png;base64,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)"
      ],
      "metadata": {
        "id": "aTP9KpkhjYon"
      }
    },
    {
      "cell_type": "code",
      "source": [
        "from pyspark.sql import SparkSession\n",
        "\n",
        "spark = SparkSession.builder.getOrCreate()\n",
        "\n",
        "data = [\n",
        "    (\"Alice\", \"Badminton, Tennis\"),\n",
        "    (\"Bob\",   \"Tennis, Cricket\"),\n",
        "    (\"Julie\", \"Cricket, Carroms\"),\n",
        "]\n",
        "\n",
        "df = spark.createDataFrame(data, [\"name\", \"Hobbies\"])\n",
        "df.show(truncate=False)\n",
        "\n",
        "df=df.withColumn('Hobbies', explode(split(col('Hobbies'),','))).show()"
      ],
      "metadata": {
        "colab": {
          "base_uri": "https://localhost:8080/"
        },
        "id": "uNAksmVej8MB",
        "outputId": "349c5da9-b087-4448-c18b-78059da0dc64"
      },
      "execution_count": null,
      "outputs": [
        {
          "output_type": "stream",
          "name": "stdout",
          "text": [
            "+-----+-----------------+\n",
            "|name |Hobbies          |\n",
            "+-----+-----------------+\n",
            "|Alice|Badminton, Tennis|\n",
            "|Bob  |Tennis, Cricket  |\n",
            "|Julie|Cricket, Carroms |\n",
            "+-----+-----------------+\n",
            "\n",
            "+-----+---------+\n",
            "| name|  Hobbies|\n",
            "+-----+---------+\n",
            "|Alice|Badminton|\n",
            "|Alice|   Tennis|\n",
            "|  Bob|   Tennis|\n",
            "|  Bob|  Cricket|\n",
            "|Julie|  Cricket|\n",
            "|Julie|  Carroms|\n",
            "+-----+---------+\n",
            "\n"
          ]
        }
      ]
    },
    {
      "cell_type": "markdown",
      "source": [
        "53. if column1  contans then display column2\n",
        "if column 2 contain null then display column3\n"
      ],
      "metadata": {
        "id": "mkL2EqLY6vBN"
      }
    },
    {
      "cell_type": "markdown",
      "source": [],
      "metadata": {
        "id": "9SkeRfHenVhx"
      }
    },
    {
      "cell_type": "code",
      "source": [
        "from pyspark.sql import SparkSession\n",
        "from pyspark.sql import types as T\n",
        "\n",
        "spark = SparkSession.builder.getOrCreate()\n",
        "\n",
        "data = [\n",
        "    (\"Goa\",  None,  \"Ap\"),\n",
        "    (None,   \"AP\",  None),\n",
        "    (None,   None,  \"Bglr\"),\n",
        "]\n",
        "\n",
        "schema = T.StructType([\n",
        "    T.StructField(\"City1\", T.StringType(), True),\n",
        "    T.StructField(\"City2\", T.StringType(), True),\n",
        "    T.StructField(\"City3\", T.StringType(), True),\n",
        "])\n",
        "\n",
        "df = spark.createDataFrame(data, schema)\n",
        "df.show()\n",
        "\n",
        "\n",
        "#solution\n",
        "\n",
        "df=df.withColumn('Result', when(col('City1').isNull(), col('City2')).otherwise(col('City1')))\n",
        "df1=df.withColumn('Result', when(col('Result').isNull(), col('City3')).otherwise(col('Result')))\n",
        "df1.select(df1.Result).show()\n",
        "\n",
        "\n",
        "\n",
        "\n"
      ],
      "metadata": {
        "colab": {
          "base_uri": "https://localhost:8080/"
        },
        "id": "2o4p9RHhnWNa",
        "outputId": "2826ee69-c3a8-4169-8d96-45e156314d9f"
      },
      "execution_count": null,
      "outputs": [
        {
          "output_type": "stream",
          "name": "stdout",
          "text": [
            "+-----+-----+-----+\n",
            "|City1|City2|City3|\n",
            "+-----+-----+-----+\n",
            "|  Goa| NULL|   Ap|\n",
            "| NULL|   AP| NULL|\n",
            "| NULL| NULL| Bglr|\n",
            "+-----+-----+-----+\n",
            "\n",
            "+------+\n",
            "|Result|\n",
            "+------+\n",
            "|   Goa|\n",
            "|    AP|\n",
            "|  Bglr|\n",
            "+------+\n",
            "\n"
          ]
        }
      ]
    },
    {
      "cell_type": "markdown",
      "source": [
        "54 Print the result class"
      ],
      "metadata": {
        "id": "K3rhjbBaxSM9"
      }
    },
    {
      "cell_type": "code",
      "source": [
        "from pyspark.sql import SparkSession\n",
        "\n",
        "spark = SparkSession.builder.getOrCreate()\n",
        "\n",
        "# --- Students ---\n",
        "students = [\n",
        "    (1, \"Steve\"),\n",
        "    (2, \"David\"),\n",
        "    (3, \"Aryan\"),\n",
        "]\n",
        "df_students = spark.createDataFrame(students, [\"Student_id\", \"Student_name\"])\n",
        "\n",
        "# --- Marks per subject ---\n",
        "marks = [\n",
        "    (1, \"pyspark\", 90),\n",
        "    (1, \"sql\",     100),\n",
        "    (2, \"sql\",     70),\n",
        "    (2, \"pyspark\", 60),\n",
        "    (3, \"sql\",     30),\n",
        "    (3, \"pyspark\", 20),\n",
        "]\n",
        "df_marks = spark.createDataFrame(marks, [\"Student_id\", \"Subject_Name\", \"Marks\"])\n",
        "\n",
        "df_students.show()\n",
        "df_marks.show()\n",
        "\n",
        "#Solution\n",
        "#df=df_students.join(df_marks, df_students.Student_id==df_marks.Student_id, 'inner')\n",
        "df_marks=df_marks.groupBy('Student_id').agg({'Marks':'avg'})\n",
        "df_marks=df_marks.withColumnRenamed('avg(Marks)','Avg_Marks')\n",
        "df_marks=df_marks.withColumn('result', when(col('Avg_Marks')>=70, 'Distinction').\n",
        "                             when((col('Avg_Marks')>=50) & (col('Avg_Marks')>=60), 'First Class').\n",
        "                             when((col('Avg_Marks')>=35) & (col('Avg_Marks')>=50), 'Second Class').\n",
        "                             otherwise('Fail'))\n",
        "df_marks.show()\n",
        "\n",
        "df=df_students.join(df_marks, df_students.Student_id==df_marks.Student_id, 'inner').drop(df_marks.Student_id).orderBy(col('Student_id'))\n",
        "df.show()\n",
        "#df=df_students.join(df_marks, df_students.Student_id==df_marks.Student_id, 'inner')\n",
        "#df.show()"
      ],
      "metadata": {
        "colab": {
          "base_uri": "https://localhost:8080/"
        },
        "id": "dGvq1BvoxV9l",
        "outputId": "f72daf50-4e8d-4aa6-da45-ddcab7da3bd8"
      },
      "execution_count": null,
      "outputs": [
        {
          "output_type": "stream",
          "name": "stdout",
          "text": [
            "+----------+------------+\n",
            "|Student_id|Student_name|\n",
            "+----------+------------+\n",
            "|         1|       Steve|\n",
            "|         2|       David|\n",
            "|         3|       Aryan|\n",
            "+----------+------------+\n",
            "\n",
            "+----------+------------+-----+\n",
            "|Student_id|Subject_Name|Marks|\n",
            "+----------+------------+-----+\n",
            "|         1|     pyspark|   90|\n",
            "|         1|         sql|  100|\n",
            "|         2|         sql|   70|\n",
            "|         2|     pyspark|   60|\n",
            "|         3|         sql|   30|\n",
            "|         3|     pyspark|   20|\n",
            "+----------+------------+-----+\n",
            "\n",
            "+----------+---------+-----------+\n",
            "|Student_id|Avg_Marks|     result|\n",
            "+----------+---------+-----------+\n",
            "|         1|     95.0|Distinction|\n",
            "|         2|     65.0|First Class|\n",
            "|         3|     25.0|       Fail|\n",
            "+----------+---------+-----------+\n",
            "\n",
            "+----------+------------+---------+-----------+\n",
            "|Student_id|Student_name|Avg_Marks|     result|\n",
            "+----------+------------+---------+-----------+\n",
            "|         1|       Steve|     95.0|Distinction|\n",
            "|         2|       David|     65.0|First Class|\n",
            "|         3|       Aryan|     25.0|       Fail|\n",
            "+----------+------------+---------+-----------+\n",
            "\n"
          ]
        }
      ]
    },
    {
      "cell_type": "markdown",
      "source": [
        "55 Nth Highest Salary"
      ],
      "metadata": {
        "id": "x8c1kwCg4baD"
      }
    },
    {
      "cell_type": "code",
      "source": [
        "from pyspark.sql import SparkSession, functions as F\n",
        "from pyspark.sql import Window\n",
        "\n",
        "spark = SparkSession.builder.getOrCreate()\n",
        "\n",
        "# ---- sample rows: emp_id, first_name, last_name, department, dept_code, salary, hire_date, manager_id, city, email\n",
        "rows = [\n",
        "    (1001, \"Alice\",  \"Wong\",  \"Data Engineering\", \"DE\",  85000.0, \"2021-04-12\", None,  \"Bengaluru\", \"alice.wong@corp.com\"),\n",
        "    (1002, \"Bob\",    \"Singh\", \"Analytics\",        \"AN\",  92000.0, \"2020-10-01\", 1005,  \"Mumbai\",    \"bob.singh@corp.com\"),\n",
        "    (1003, \"Carlos\", \"Diaz\",  \"Finance\",          \"FIN\", 78000.0, \"2019-07-15\", 1006,  \"Pune\",      \"carlos.diaz@corp.com\"),\n",
        "    (1004, \"Divya\",  \"Kumar\", \"IT\",               \"IT\", 110000.0, \"2022-02-25\", None,  \"Hyderabad\", \"divya.kumar@corp.com\"),\n",
        "    (1005, \"Esha\",   \"Mehta\", \"Analytics\",        \"AN\", 128000.0, \"2018-11-20\", None,  \"Mumbai\",    \"esha.mehta@corp.com\"),\n",
        "    (1006, \"Farhan\", \"Ali\",   \"Finance\",          \"FIN\",135000.0, \"2017-03-10\", None,  \"Pune\",      \"farhan.ali@corp.com\"),\n",
        "    (1007, \"Grace\",  \"Lee\",   \"Data Engineering\", \"DE\",  65000.0, \"2024-01-05\", 1001,  \"Bengaluru\", \"grace.lee@corp.com\"),\n",
        "    (1008, \"Hari\",   \"Rao\",   \"IT\",               \"IT\",  70000.0, \"2023-06-19\", 1004,  \"Hyderabad\", \"hari.rao@corp.com\"),\n",
        "]\n",
        "\n",
        "employees = spark.createDataFrame(\n",
        "    rows,\n",
        "    [\"emp_id\",\"first_name\",\"last_name\",\"department\",\"dept_code\",\"salary\",\"hire_date\",\"manager_id\",\"city\",\"email\"]\n",
        ").withColumn(\"hire_date\", F.to_date(\"hire_date\"))  # cast to DateType\n",
        "\n",
        "employees.printSchema()\n",
        "employees.show(truncate=False)\n",
        "\n",
        "\n",
        "w=Window.orderBy(F.col(\"salary\").desc())\n",
        "employees.withColumn('rank', F.rank().over(w)).filter(F.col('rank')==5).show()"
      ],
      "metadata": {
        "colab": {
          "base_uri": "https://localhost:8080/"
        },
        "id": "MXuFsxjm4dsf",
        "outputId": "014cccc7-7979-4296-d1c6-21acd4c647a3"
      },
      "execution_count": null,
      "outputs": [
        {
          "output_type": "stream",
          "name": "stdout",
          "text": [
            "root\n",
            " |-- emp_id: long (nullable = true)\n",
            " |-- first_name: string (nullable = true)\n",
            " |-- last_name: string (nullable = true)\n",
            " |-- department: string (nullable = true)\n",
            " |-- dept_code: string (nullable = true)\n",
            " |-- salary: double (nullable = true)\n",
            " |-- hire_date: date (nullable = true)\n",
            " |-- manager_id: long (nullable = true)\n",
            " |-- city: string (nullable = true)\n",
            " |-- email: string (nullable = true)\n",
            "\n",
            "+------+----------+---------+----------------+---------+--------+----------+----------+---------+--------------------+\n",
            "|emp_id|first_name|last_name|department      |dept_code|salary  |hire_date |manager_id|city     |email               |\n",
            "+------+----------+---------+----------------+---------+--------+----------+----------+---------+--------------------+\n",
            "|1001  |Alice     |Wong     |Data Engineering|DE       |85000.0 |2021-04-12|NULL      |Bengaluru|alice.wong@corp.com |\n",
            "|1002  |Bob       |Singh    |Analytics       |AN       |92000.0 |2020-10-01|1005      |Mumbai   |bob.singh@corp.com  |\n",
            "|1003  |Carlos    |Diaz     |Finance         |FIN      |78000.0 |2019-07-15|1006      |Pune     |carlos.diaz@corp.com|\n",
            "|1004  |Divya     |Kumar    |IT              |IT       |110000.0|2022-02-25|NULL      |Hyderabad|divya.kumar@corp.com|\n",
            "|1005  |Esha      |Mehta    |Analytics       |AN       |128000.0|2018-11-20|NULL      |Mumbai   |esha.mehta@corp.com |\n",
            "|1006  |Farhan    |Ali      |Finance         |FIN      |135000.0|2017-03-10|NULL      |Pune     |farhan.ali@corp.com |\n",
            "|1007  |Grace     |Lee      |Data Engineering|DE       |65000.0 |2024-01-05|1001      |Bengaluru|grace.lee@corp.com  |\n",
            "|1008  |Hari      |Rao      |IT              |IT       |70000.0 |2023-06-19|1004      |Hyderabad|hari.rao@corp.com   |\n",
            "+------+----------+---------+----------------+---------+--------+----------+----------+---------+--------------------+\n",
            "\n",
            "+------+----------+---------+----------------+---------+-------+----------+----------+---------+-------------------+----+\n",
            "|emp_id|first_name|last_name|      department|dept_code| salary| hire_date|manager_id|     city|              email|rank|\n",
            "+------+----------+---------+----------------+---------+-------+----------+----------+---------+-------------------+----+\n",
            "|  1001|     Alice|     Wong|Data Engineering|       DE|85000.0|2021-04-12|      NULL|Bengaluru|alice.wong@corp.com|   5|\n",
            "+------+----------+---------+----------------+---------+-------+----------+----------+---------+-------------------+----+\n",
            "\n"
          ]
        }
      ]
    },
    {
      "cell_type": "markdown",
      "source": [
        "56.\n",
        "![image.png](data:image/png;base64,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)"
      ],
      "metadata": {
        "id": "39Gyej5CGa-I"
      }
    },
    {
      "cell_type": "code",
      "source": [
        "from pyspark.sql import SparkSession, functions as F, types as T\n",
        "\n",
        "spark = SparkSession.builder.getOrCreate()\n",
        "\n",
        "# ---------- Dept ----------\n",
        "dept_rows = [\n",
        "    (1, \"IT\"),\n",
        "    (2, \"Sales\"),\n",
        "]\n",
        "dept_schema = T.StructType([\n",
        "    T.StructField(\"DeptID\",    T.IntegerType(), False),\n",
        "    T.StructField(\"DeptName\",  T.StringType(),  False),\n",
        "])\n",
        "df_dept = spark.createDataFrame(dept_rows, dept_schema)\n",
        "\n",
        "# ---------- Emp ----------\n",
        "emp_rows = [\n",
        "    (100, \"Raj\",   None, 1, \"01-04-23\", 50000),\n",
        "    (200, \"Venki\", 100,  1, \"13-04-23\",  4000),\n",
        "    (200, \"Venki\", 100,  1, \"01-04-23\",  4500),\n",
        "    (200, \"Venki\", 100,  1, \"14-05-23\",  4020),\n",
        "]\n",
        "emp_schema = T.StructType([\n",
        "    T.StructField(\"EmpID\",    T.IntegerType(), True),\n",
        "    T.StructField(\"EmpName\",  T.StringType(),  True),\n",
        "    T.StructField(\"MgrID\",    T.IntegerType(), True),\n",
        "    T.StructField(\"DeptID\",   T.IntegerType(), True),\n",
        "    T.StructField(\"Sal_Date\", T.StringType(),  True),  # parse next line\n",
        "    T.StructField(\"Sal\",      T.IntegerType(), True),\n",
        "])\n",
        "df_emp = (spark.createDataFrame(emp_rows, emp_schema)\n",
        "            .withColumn(\"Sal_Date\", F.to_date(\"Sal_Date\", \"dd-MM-yy\")))\n",
        "\n",
        "# Preview\n",
        "df_dept.show()\n",
        "df_emp.show()\n",
        "df_emp.printSchema()\n",
        "\n",
        "# (Optional) make them queryable in SQL for this session\n",
        "df_dept.createOrReplaceTempView(\"Dept\")\n",
        "df_emp.createOrReplaceTempView(\"Emp\")\n",
        "\n",
        "# (Optional) save as Parquet (replace with HDFS/S3 paths)\n",
        "# df_dept.write.mode(\"overwrite\").parquet(\"/data/Dept\")\n",
        "# df_emp.write.mode(\"overwrite\").parquet(\"/data/Emp\")\n"
      ],
      "metadata": {
        "colab": {
          "base_uri": "https://localhost:8080/"
        },
        "id": "w5sZTwUxGoKX",
        "outputId": "e169f0c0-1eb2-4a8c-c94e-bb09f8bd0e55"
      },
      "execution_count": null,
      "outputs": [
        {
          "output_type": "stream",
          "name": "stdout",
          "text": [
            "+------+--------+\n",
            "|DeptID|DeptName|\n",
            "+------+--------+\n",
            "|     1|      IT|\n",
            "|     2|   Sales|\n",
            "+------+--------+\n",
            "\n",
            "+-----+-------+-----+------+----------+-----+\n",
            "|EmpID|EmpName|MgrID|DeptID|  Sal_Date|  Sal|\n",
            "+-----+-------+-----+------+----------+-----+\n",
            "|  100|    Raj| NULL|     1|2023-04-01|50000|\n",
            "|  200|  Venki|  100|     1|2023-04-13| 4000|\n",
            "|  200|  Venki|  100|     1|2023-04-01| 4500|\n",
            "|  200|  Venki|  100|     1|2023-05-14| 4020|\n",
            "+-----+-------+-----+------+----------+-----+\n",
            "\n",
            "root\n",
            " |-- EmpID: integer (nullable = true)\n",
            " |-- EmpName: string (nullable = true)\n",
            " |-- MgrID: integer (nullable = true)\n",
            " |-- DeptID: integer (nullable = true)\n",
            " |-- Sal_Date: date (nullable = true)\n",
            " |-- Sal: integer (nullable = true)\n",
            "\n"
          ]
        }
      ]
    },
    {
      "cell_type": "markdown",
      "metadata": {
        "id": "4fe37cc1"
      },
      "source": [
        "**56. Write the Pyspark code to convert table1 to table2**\n",
        "\n",
        "![image.png](data:image/png;base64,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)"
      ]
    },
    {
      "cell_type": "code",
      "source": [
        "#Solution\n",
        "df=df_emp.join(df_dept, on='DeptID', how='left')\n",
        "\n",
        "\n",
        "df=df.alias('a').join(df.alias('b'), col('a.EmpID')==col('b.MgrID'), how='left')\n",
        "df.show()\n",
        "\n",
        "df2=df.select(\n",
        "    col('b.DeptName'),\n",
        "    col('b.EmpName').alias('MgrName'),\n",
        "    col('a.EmpName'),\n",
        "    col('a.Sal'),\n",
        "    col('a.Sal_Date')\n",
        ")\n",
        "df2.show()\n",
        "\n",
        "df3=df2.groupBy('DeptName','MgrName','EmpName', year(col('sal_Date')).alias('Salary_year'), month(col('Sal_Date').alias('Salary_month'))).sum('Sal').alias('TotalSal')\n",
        "df3.show();"
      ],
      "metadata": {
        "colab": {
          "base_uri": "https://localhost:8080/"
        },
        "id": "NXYxkfCvHAZ0",
        "outputId": "86c03293-a187-4439-b4a0-72205d4fa70a"
      },
      "execution_count": null,
      "outputs": [
        {
          "output_type": "stream",
          "name": "stdout",
          "text": [
            "+------+-----+-------+-----+----------+-----+--------+------+-----+-------+-----+----------+----+--------+\n",
            "|DeptID|EmpID|EmpName|MgrID|  Sal_Date|  Sal|DeptName|DeptID|EmpID|EmpName|MgrID|  Sal_Date| Sal|DeptName|\n",
            "+------+-----+-------+-----+----------+-----+--------+------+-----+-------+-----+----------+----+--------+\n",
            "|     1|  100|    Raj| NULL|2023-04-01|50000|      IT|     1|  200|  Venki|  100|2023-05-14|4020|      IT|\n",
            "|     1|  100|    Raj| NULL|2023-04-01|50000|      IT|     1|  200|  Venki|  100|2023-04-01|4500|      IT|\n",
            "|     1|  100|    Raj| NULL|2023-04-01|50000|      IT|     1|  200|  Venki|  100|2023-04-13|4000|      IT|\n",
            "|     1|  200|  Venki|  100|2023-04-13| 4000|      IT|  NULL| NULL|   NULL| NULL|      NULL|NULL|    NULL|\n",
            "|     1|  200|  Venki|  100|2023-04-01| 4500|      IT|  NULL| NULL|   NULL| NULL|      NULL|NULL|    NULL|\n",
            "|     1|  200|  Venki|  100|2023-05-14| 4020|      IT|  NULL| NULL|   NULL| NULL|      NULL|NULL|    NULL|\n",
            "+------+-----+-------+-----+----------+-----+--------+------+-----+-------+-----+----------+----+--------+\n",
            "\n",
            "+--------+-------+-------+-----+----------+\n",
            "|DeptName|MgrName|EmpName|  Sal|  Sal_Date|\n",
            "+--------+-------+-------+-----+----------+\n",
            "|      IT|  Venki|    Raj|50000|2023-04-01|\n",
            "|      IT|  Venki|    Raj|50000|2023-04-01|\n",
            "|      IT|  Venki|    Raj|50000|2023-04-01|\n",
            "|    NULL|   NULL|  Venki| 4000|2023-04-13|\n",
            "|    NULL|   NULL|  Venki| 4500|2023-04-01|\n",
            "|    NULL|   NULL|  Venki| 4020|2023-05-14|\n",
            "+--------+-------+-------+-----+----------+\n",
            "\n",
            "+--------+-------+-------+-----------+-------------------------------+--------+\n",
            "|DeptName|MgrName|EmpName|Salary_year|month(Sal_Date AS Salary_month)|sum(Sal)|\n",
            "+--------+-------+-------+-----------+-------------------------------+--------+\n",
            "|    NULL|   NULL|  Venki|       2023|                              5|    4020|\n",
            "|    NULL|   NULL|  Venki|       2023|                              4|    8500|\n",
            "|      IT|  Venki|    Raj|       2023|                              4|  150000|\n",
            "+--------+-------+-------+-----------+-------------------------------+--------+\n",
            "\n"
          ]
        }
      ]
    },
    {
      "cell_type": "code",
      "source": [
        "print(df.rdd.getNumPartitions())"
      ],
      "metadata": {
        "colab": {
          "base_uri": "https://localhost:8080/"
        },
        "id": "ZzvqaR9lX8xw",
        "outputId": "56443241-0c9e-4572-a3bc-f2a855d4cd19"
      },
      "execution_count": null,
      "outputs": [
        {
          "output_type": "stream",
          "name": "stdout",
          "text": [
            "1\n"
          ]
        }
      ]
    },
    {
      "cell_type": "markdown",
      "source": [],
      "metadata": {
        "id": "FEGpai7CWDNi"
      }
    }
  ],
  "metadata": {
    "application/vnd.databricks.v1+notebook": {
      "computePreferences": null,
      "dashboards": [],
      "environmentMetadata": {
        "base_environment": "",
        "environment_version": "1"
      },
      "inputWidgetPreferences": null,
      "language": "python",
      "notebookMetadata": {
        "mostRecentlyExecutedCommandWithImplicitDF": {
          "commandId": 65213562212438,
          "dataframes": [
            "_sqldf"
          ]
        },
        "pythonIndentUnit": 4
      },
      "notebookName": "PySpark Interview",
      "widgets": {}
    },
    "language_info": {
      "name": "python"
    },
    "colab": {
      "provenance": [],
      "toc_visible": true
    },
    "kernelspec": {
      "name": "python3",
      "display_name": "Python 3"
    }
  },
  "nbformat": 4,
  "nbformat_minor": 0
}